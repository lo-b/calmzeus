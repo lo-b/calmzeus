{
 "cells": [
  {
   "cell_type": "markdown",
   "id": "25e66f48",
   "metadata": {},
   "source": [
    "# Exploration of simple pull request (PR) agent\n",
    "\n",
    "## Intro\n",
    "How to go from LLM response/answer to a commit (and PR)?\n",
    "\n",
    "- One way could be to create an agent. It could extract only relevant text in\n",
    "an answer and then use this to make the commit for a config task.\n",
    "- Another way could be to try playing around with the prompt to get a more\n",
    "exact/concise output.\n",
    "- Exploring possibility simple (A)ST-based indexing of source files.\n",
    "Ensures we keep track of the actual lines in source file of a snippet. Feed\n",
    "al this context forward into the LLM. Maybe it can use the additional (e.g.\n",
    "line number) context to be more precise in it's output.\n",
    "\n",
    "In this notebook, CST enrichment (for details see\n",
    "[here](./cst_indexing.sync.ipynb)) + prompt engineering is used.\n",
    "\n",
    "## Goal\n",
    "Create an agent/chain to extract relevant code/text from LLM answer and\n",
    "create a commit."
   ]
  },
  {
   "cell_type": "markdown",
   "id": "e4b49791",
   "metadata": {},
   "source": [
    "# Exploration\n",
    "## Imports"
   ]
  },
  {
   "cell_type": "code",
   "execution_count": 1,
   "id": "25113330",
   "metadata": {},
   "outputs": [],
   "source": [
    "import os\n",
    "from typing import Any, Optional, TypedDict\n",
    "from uuid import uuid4\n",
    "\n",
    "from dotenv import load_dotenv\n",
    "from langchain import hub\n",
    "from langchain_community.document_loaders.generic import GenericLoader\n",
    "from langchain_community.document_loaders.parsers.language.language_parser import (\n",
    "    LanguageParser,\n",
    ")\n",
    "from langchain_core.documents import Document\n",
    "from langchain_core.output_parsers import StrOutputParser\n",
    "from langchain_core.prompts import PromptTemplate\n",
    "from langchain_core.runnables import (\n",
    "    RunnablePassthrough,\n",
    "    RunnableSerializable,\n",
    ")\n",
    "from langchain_mistralai.chat_models import ChatMistralAI\n",
    "from langchain_openai import ChatOpenAI\n",
    "from langchain_qdrant import QdrantVectorStore\n",
    "from langchain_text_splitters import (\n",
    "    Language as SplitterLanguage,\n",
    ")\n",
    "from langchain_voyageai import VoyageAIEmbeddings\n",
    "from qdrant_client import QdrantClient\n",
    "from qdrant_client.models import Distance, VectorParams\n",
    "from rich import print as rprint\n",
    "from tree_sitter import Language, Node, Parser, Tree\n",
    "from typing_extensions import Never"
   ]
  },
  {
   "cell_type": "markdown",
   "id": "7b9c43b2",
   "metadata": {},
   "source": [
    "## Define constants"
   ]
  },
  {
   "cell_type": "code",
   "execution_count": 2,
   "id": "9f01a5cd",
   "metadata": {},
   "outputs": [],
   "source": [
    "QDRANT_COLLECTION_NAME = \"cst-enriched-simple-java-api\"\n",
    "VOYAGE_MODEL_NAME = \"voyage-code-2\"\n",
    "MISTRAL_MODEL_NAME = \"open-codestral-mamba\""
   ]
  },
  {
   "cell_type": "code",
   "execution_count": 3,
   "id": "de977643",
   "metadata": {},
   "outputs": [],
   "source": [
    "assert load_dotenv(), \".env files exists and contains at least one variable\""
   ]
  },
  {
   "cell_type": "markdown",
   "id": "690fab0f",
   "metadata": {},
   "source": [
    "## Create full RAG flow\n",
    "Consists of:\n",
    "- indexing\n",
    "- retrieval\n",
    "- generation"
   ]
  },
  {
   "cell_type": "markdown",
   "id": "210ff7ef",
   "metadata": {},
   "source": [
    "### Indexing\n",
    "Load documents and enrich their metadata with *context syntax trees* (CSTs).\n",
    "Add docs to vector store and create a retriever for the store."
   ]
  },
  {
   "cell_type": "markdown",
   "id": "45aa6846",
   "metadata": {},
   "source": [
    "#### Create java and properties parser"
   ]
  },
  {
   "cell_type": "code",
   "execution_count": 4,
   "id": "f0724708",
   "metadata": {},
   "outputs": [
    {
     "name": "stderr",
     "output_type": "stream",
     "text": [
      "/home/bram/.pyenv/versions/3.9.19/envs/calmzeus/lib/python3.9/site-packages/tree_sitter/__init__.py:36: FutureWarning: Language(path, name) is deprecated. Use Language(ptr, name) instead.\n",
      "  warn(\"{} is deprecated. Use {} instead.\".format(old, new), FutureWarning)\n"
     ]
    }
   ],
   "source": [
    "JPROP_LANGUAGE = Language(\"../parsers/ts-properties.so\", \"properties\")\n",
    "JAVA_LANGUAGE = Language(\"../parsers/ts-java.so\", \"java\")\n",
    "\n",
    "# create parsers\n",
    "java_parser = Parser()\n",
    "java_parser.set_language(JAVA_LANGUAGE)\n",
    "\n",
    "jprop_parser = Parser()\n",
    "jprop_parser.set_language(JPROP_LANGUAGE)"
   ]
  },
  {
   "cell_type": "markdown",
   "id": "e76e80c8",
   "metadata": {},
   "source": [
    "#### Code to convert tree to dictionary\n",
    "Create *pre-order traversal* (first process a node itself, then its children)\n",
    "algorithm to convert CST to JSON."
   ]
  },
  {
   "cell_type": "code",
   "execution_count": 5,
   "id": "8fcfa646",
   "metadata": {},
   "outputs": [],
   "source": [
    "class NodeDict(TypedDict):\n",
    "    grammar_name: str\n",
    "    text: str\n",
    "    start: tuple[int, int]\n",
    "    end: tuple[int, int]\n",
    "    children: list[Any]\n",
    "\n",
    "\n",
    "def node_to_dict(node: Node) -> NodeDict:\n",
    "    node_dict: NodeDict = {\n",
    "        \"grammar_name\": node.grammar_name,\n",
    "        \"text\": bytes.decode(node.text),\n",
    "        \"start\": node.start_point,\n",
    "        \"end\": node.end_point,\n",
    "        \"children\": [],\n",
    "    }\n",
    "\n",
    "    for child in node.children:\n",
    "        node_dict[\"children\"].append(node_to_dict(child))\n",
    "\n",
    "    return node_dict"
   ]
  },
  {
   "cell_type": "markdown",
   "id": "6d95b2db",
   "metadata": {},
   "source": [
    "#### Load files"
   ]
  },
  {
   "cell_type": "code",
   "execution_count": 6,
   "id": "cf564908",
   "metadata": {},
   "outputs": [
    {
     "name": "stdout",
     "output_type": "stream",
     "text": [
      "loaded 6 docs\n"
     ]
    }
   ],
   "source": [
    "java_code_dir = \"/home/bram/projects/heavenlyhades/java/simple-api/\"\n",
    "loader = GenericLoader.from_filesystem(\n",
    "    java_code_dir,\n",
    "    glob=\"**/src/main/**/[!.]*\",\n",
    "    suffixes=[\".java\", \".properties\"],\n",
    "    parser=LanguageParser(SplitterLanguage.JAVA),\n",
    ")\n",
    "documents = loader.load()\n",
    "print(\"loaded\", len(documents), \"docs\")"
   ]
  },
  {
   "cell_type": "markdown",
   "id": "40f79b2d",
   "metadata": {},
   "source": [
    "#### Enrich metadata with CST"
   ]
  },
  {
   "cell_type": "code",
   "execution_count": 7,
   "id": "0668cb2f",
   "metadata": {},
   "outputs": [],
   "source": [
    "def construct_cst(doc: Document) -> Optional[NodeDict]:\n",
    "    doc_source = doc.metadata[\"source\"]\n",
    "    cst: Optional[NodeDict] = None\n",
    "    if \".properties\" in doc_source:\n",
    "        cst = jprop_parser.parse(str.encode(doc.page_content))\n",
    "    if \".java\" in doc_source:\n",
    "        cst = java_parser.parse(str.encode(doc.page_content))\n",
    "\n",
    "    return node_to_dict(cst.root_node)\n",
    "\n",
    "\n",
    "for doc in documents:\n",
    "    assert (\n",
    "        \".properties\" or \".java\" in doc.metadata[\"source\"]\n",
    "    ), \"only set up parsers for java/properties files\"\n",
    "\n",
    "    doc.metadata[\"cst\"] = construct_cst(doc)"
   ]
  },
  {
   "cell_type": "markdown",
   "id": "b18a72d2",
   "metadata": {},
   "source": [
    "#### Add documents to collection"
   ]
  },
  {
   "cell_type": "code",
   "execution_count": 8,
   "id": "d51431f1",
   "metadata": {},
   "outputs": [],
   "source": [
    "embeddings = VoyageAIEmbeddings(model=VOYAGE_MODEL_NAME, batch_size=1)"
   ]
  },
  {
   "cell_type": "code",
   "execution_count": 9,
   "id": "f636299c",
   "metadata": {},
   "outputs": [],
   "source": [
    "sample_text = \"69-420\"  # example text to determine embedding size\n",
    "embedding_size = len(embeddings.embed_query(sample_text))\n",
    "\n",
    "\n",
    "client = QdrantClient(\n",
    "    url=f\"https://{os.environ['QDRANT_CLUSTER_ENDPOINT']}:6333\",\n",
    "    api_key=os.environ[\"QDRANT_API_KEY\"],\n",
    ")\n",
    "\n",
    "vector_store = QdrantVectorStore(\n",
    "    client=client,\n",
    "    collection_name=QDRANT_COLLECTION_NAME,\n",
    "    embedding=embeddings,\n",
    ")\n",
    "\n",
    "if not client.collection_exists(QDRANT_COLLECTION_NAME):\n",
    "    _ = client.create_collection(\n",
    "        collection_name=QDRANT_COLLECTION_NAME,\n",
    "        vectors_config=VectorParams(size=embedding_size, distance=Distance.COSINE),\n",
    "    )\n",
    "    uuids = [str(uuid4()) for _ in range(len(documents))]\n",
    "    v_uuids = vector_store.add_documents(documents=documents, ids=uuids)"
   ]
  },
  {
   "cell_type": "markdown",
   "id": "88ed0e95",
   "metadata": {},
   "source": [
    "#### Construct retriever for vector DB"
   ]
  },
  {
   "cell_type": "code",
   "execution_count": 10,
   "id": "3c8e9cfb",
   "metadata": {},
   "outputs": [],
   "source": [
    "retriever = vector_store.as_retriever(\n",
    "    search_type=\"mmr\",\n",
    "    search_kwargs={\"k\": 4, \"fetch_k\": 5, \"lambda_mult\": 0.25},\n",
    ")"
   ]
  },
  {
   "cell_type": "markdown",
   "id": "5113224f",
   "metadata": {},
   "source": [
    "### Retrieval\n",
    "Implement small chain to rephrase a user's question -- ideally to find a\n",
    "more similar document. Using [GPT-4o mini](\n",
    "https://openai.com/index/gpt-4o-mini-advancing-cost-efficient-intelligence/\n",
    ") to rephrase question. As of writing, costs are as following:\n",
    "|in- or output|cost per million (1M) tokens|\n",
    "|---|---|\n",
    "|input|\\$0.150|\n",
    "|output|\\$0.600|"
   ]
  },
  {
   "cell_type": "code",
   "execution_count": 11,
   "id": "0b109ad8",
   "metadata": {},
   "outputs": [],
   "source": [
    "rephrase_prompt: PromptTemplate = hub.pull(\"lo-b/rag-rephrase-assist-prompt\")\n",
    "gpt_4o_mini = ChatOpenAI(model=\"gpt-4o-mini\")\n",
    "\n",
    "rephrased_retriever: RunnableSerializable[Never, list[Document]] = (\n",
    "    {\"question\": RunnablePassthrough()}\n",
    "    | rephrase_prompt\n",
    "    | gpt_4o_mini\n",
    "    | StrOutputParser()\n",
    "    | retriever\n",
    ")"
   ]
  },
  {
   "cell_type": "markdown",
   "id": "5d12fba1",
   "metadata": {},
   "source": [
    "### Generation (full chain)"
   ]
  },
  {
   "cell_type": "code",
   "execution_count": 12,
   "id": "019087ae",
   "metadata": {},
   "outputs": [],
   "source": [
    "mistral = ChatMistralAI(model_name=MISTRAL_MODEL_NAME)\n",
    "config_prompt: PromptTemplate = hub.pull(\"lo-b/rag-config-assist-prompt\")\n",
    "generate: RunnableSerializable[Never, str] = (\n",
    "    {\"context\": rephrased_retriever, \"question\": RunnablePassthrough()}\n",
    "    | config_prompt\n",
    "    | mistral\n",
    "    | StrOutputParser()\n",
    ")"
   ]
  },
  {
   "cell_type": "code",
   "execution_count": 13,
   "id": "dbdd8549",
   "metadata": {},
   "outputs": [],
   "source": [
    "answer = generate.invoke(\"Change app dev port to 7777\")"
   ]
  },
  {
   "cell_type": "code",
   "execution_count": 14,
   "id": "ecc58ec9",
   "metadata": {},
   "outputs": [
    {
     "data": {
      "text/html": [
       "<pre style=\"white-space:pre;overflow-x:auto;line-height:normal;font-family:Menlo,'DejaVu Sans Mono',consolas,'Courier New',monospace\">To change the app dev port to <span style=\"color: #008080; text-decoration-color: #008080; font-weight: bold\">7777</span>, you need to update the `application.properties` file. Here's the updated \n",
       "content:\n",
       "\n",
       "```\n",
       "<span style=\"color: #808000; text-decoration-color: #808000\">debug</span>=<span style=\"color: #800080; text-decoration-color: #800080\">false</span>\n",
       "server.<span style=\"color: #808000; text-decoration-color: #808000\">port</span>=<span style=\"color: #008080; text-decoration-color: #008080; font-weight: bold\">7777</span>\n",
       "```\n",
       "\n",
       "You can replace the existing content of the `application.properties` file with the above code. This will update the\n",
       "`server.port` property to `<span style=\"color: #008080; text-decoration-color: #008080; font-weight: bold\">7777</span>`, which will change the app dev port.\n",
       "</pre>\n"
      ],
      "text/plain": [
       "To change the app dev port to \u001b[1;36m7777\u001b[0m, you need to update the `application.properties` file. Here's the updated \n",
       "content:\n",
       "\n",
       "```\n",
       "\u001b[33mdebug\u001b[0m=\u001b[35mfalse\u001b[0m\n",
       "server.\u001b[33mport\u001b[0m=\u001b[1;36m7777\u001b[0m\n",
       "```\n",
       "\n",
       "You can replace the existing content of the `application.properties` file with the above code. This will update the\n",
       "`server.port` property to `\u001b[1;36m7777\u001b[0m`, which will change the app dev port.\n"
      ]
     },
     "metadata": {},
     "output_type": "display_data"
    }
   ],
   "source": [
    "rprint(answer)"
   ]
  }
 ],
 "metadata": {
  "kernelspec": {
   "display_name": "Python 3 (ipykernel)",
   "language": "python",
   "name": "python3"
  },
  "language_info": {
   "codemirror_mode": {
    "name": "ipython",
    "version": 3
   },
   "file_extension": ".py",
   "mimetype": "text/x-python",
   "name": "python",
   "nbconvert_exporter": "python",
   "pygments_lexer": "ipython3",
   "version": "3.9.19"
  }
 },
 "nbformat": 4,
 "nbformat_minor": 5
}
