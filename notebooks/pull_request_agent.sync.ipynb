{
 "cells": [
  {
   "cell_type": "markdown",
   "id": "25e66f48",
   "metadata": {},
   "source": [
    "# Exploration of simple pull request (PR) agent\n",
    "\n",
    "## Intro\n",
    "How to go from LLM response/answer to a commit (and PR)?\n",
    "\n",
    "- One way could be to create an agent. It could extract only relevant text in\n",
    "an answer and then use this to make the commit for a config task.\n",
    "- Another way could be to try playing around with the prompt to get a more\n",
    "exact/concise output.\n",
    "- Exploring possibility simple (A)ST-based indexing of source files.\n",
    "Ensures we keep track of the actual lines in source file of a snippet. Feed\n",
    "al this context forward into the LLM. Maybe it can use the additional (e.g.\n",
    "line number) context to be more precise in it's output.\n",
    "\n",
    "## Goal\n",
    "Create an agent/chain to extract relevant code/text from LLM answer and\n",
    "create a commit."
   ]
  }
 ],
 "metadata": {
  "kernelspec": {
   "display_name": "Python 3 (ipykernel)",
   "language": "python",
   "name": "python3"
  },
  "language_info": {
   "codemirror_mode": {
    "name": "ipython",
    "version": 3
   },
   "file_extension": ".py",
   "mimetype": "text/x-python",
   "name": "python",
   "nbconvert_exporter": "python",
   "pygments_lexer": "ipython3",
   "version": "3.9.19"
  }
 },
 "nbformat": 4,
 "nbformat_minor": 5
}
