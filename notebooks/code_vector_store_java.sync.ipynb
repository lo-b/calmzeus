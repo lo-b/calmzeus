{
 "cells": [
  {
   "cell_type": "markdown",
   "id": "af024dd2",
   "metadata": {},
   "source": [
    "# Exploration of code vector store\n",
    "# Intro\n",
    "Extracting context for an LLM config assistant to use could be realised by\n",
    "just loading in all project/repository's source files that contain code or\n",
    "configuration.\n",
    "\n",
    "# Goal\n",
    "Create a vector store of a very rudimentary Java (spring-boot) API. Check how\n",
    "well retrieval of relevant files works. I.e. given the prompt:\n",
    "\n",
    "*\"This file is used to configure the application's port.\"*\n",
    "\n",
    "Ideally the store should give back documents that are similar to the prompt,\n",
    "e.g.: `application.properties`.\n",
    "\n",
    "# Before you start\n",
    "Create an `.env` file and add & set the `VOYAGE_API_KEY` key.\n",
    "\n",
    "[voyage-code-2](https://blog.voyageai.com/2024/01/23/voyage-code-2-elevate-your-code-retrieval/)\n",
    "is used as the embedding model. After searching for 'best code embedding\n",
    "models' this came up, so let's give it a try!\n",
    "\n",
    "Grab a copy of the Java source code, available\n",
    "[here](https://github.com/lo-b/heavenlyhades/tree/main/java/simple-api)\n",
    "\n",
    "\n",
    "# Let's get to it"
   ]
  },
  {
   "cell_type": "code",
   "execution_count": 1,
   "id": "e3940550",
   "metadata": {},
   "outputs": [],
   "source": [
    "from uuid import uuid4\n",
    "\n",
    "import faiss\n",
    "from dotenv import load_dotenv\n",
    "from langchain_community.docstore.in_memory import InMemoryDocstore\n",
    "from langchain_community.document_loaders.generic import GenericLoader\n",
    "from langchain_community.document_loaders.parsers.language.language_parser import (\n",
    "    LanguageParser,\n",
    ")\n",
    "from langchain_community.vectorstores import FAISS\n",
    "from langchain_text_splitters import Language\n",
    "from langchain_voyageai import VoyageAIEmbeddings\n",
    "from rich import print as rprint"
   ]
  },
  {
   "cell_type": "code",
   "execution_count": 2,
   "id": "bfbaedfd",
   "metadata": {},
   "outputs": [],
   "source": [
    "assert load_dotenv(), \"API vars should be defined in .env file\""
   ]
  },
  {
   "cell_type": "markdown",
   "id": "b5e094c2",
   "metadata": {},
   "source": [
    "## Loading documents (`.java`/`.properties` files)\n",
    "Load source code in as documents, only grabbing 'properties' and Java files."
   ]
  },
  {
   "cell_type": "code",
   "execution_count": 3,
   "id": "80db85a5",
   "metadata": {},
   "outputs": [
    {
     "name": "stderr",
     "output_type": "stream",
     "text": [
      "/home/bram/.pyenv/versions/3.9.19/envs/calmzeus/lib/python3.9/site-packages/tree_sitter/__init__.py:36: FutureWarning: Language(path, name) is deprecated. Use Language(ptr, name) instead.\n",
      "  warn(\"{} is deprecated. Use {} instead.\".format(old, new), FutureWarning)\n"
     ]
    }
   ],
   "source": [
    "csharp_code_dir = \"/home/bram/projects/heavenlyhades/java/simple-api/\"\n",
    "loader = GenericLoader.from_filesystem(\n",
    "    csharp_code_dir,\n",
    "    glob=\"**/src/main/**/[!.]*\",\n",
    "    suffixes=[\".java\", \".properties\"],\n",
    "    parser=LanguageParser(Language.JAVA),\n",
    ")\n",
    "documents = loader.load()"
   ]
  },
  {
   "cell_type": "markdown",
   "id": "cef114ef",
   "metadata": {},
   "source": [
    "## Print out the loaded documents"
   ]
  },
  {
   "cell_type": "code",
   "execution_count": 4,
   "id": "c8f4744f",
   "metadata": {},
   "outputs": [
    {
     "name": "stdout",
     "output_type": "stream",
     "text": [
      "Total docs:  6\n",
      "Doc (meta)data\n",
      "METADATA:\n",
      "=>source:\n",
      "\t/home/bram/projects/heavenlyhades/java/simple-api/src/main/java/com/example/restservice/Greeting.java\n",
      "=>content_type:\n",
      "\tsimplified_code\n",
      "=>language:\n",
      "\tjava\n",
      "JSON DUMP:\n",
      "{\"id\":null,\"metadata\":{\"source\":\"/home/bram/projects/heavenlyhades/java/simple-api/src/main/java/com/example/restservice/Greeting.java\",\"content_type\":\"simplified_code\",\"language\":\"java\"},\"page_content\":\"package com.example.restservice;\\n\\npublic record Greeting(long id, String content) { }\",\"type\":\"Document\"}\n",
      "======================================================================\n",
      "METADATA:\n",
      "=>source:\n",
      "\t/home/bram/projects/heavenlyhades/java/simple-api/src/main/java/com/example/restservice/GreetingController.java\n",
      "=>content_type:\n",
      "\tfunctions_classes\n",
      "=>language:\n",
      "\tjava\n",
      "JSON DUMP:\n",
      "{\"id\":null,\"metadata\":{\"source\":\"/home/bram/projects/heavenlyhades/java/simple-api/src/main/java/com/example/restservice/GreetingController.java\",\"content_type\":\"functions_classes\",\"language\":\"java\"},\"page_content\":\"@RestController\\npublic class GreetingController {\\n\\n\\tprivate static final String template = \\\"Hello, %s!\\\";\\n\\tprivate final AtomicLong counter = new AtomicLong();\\n\\n\\t@GetMapping(\\\"/greeting\\\")\\n\\tpublic Greeting greeting(@RequestParam(value = \\\"name\\\", defaultValue = \\\"World\\\") String name) {\\n\\t\\treturn new Greeting(counter.incrementAndGet(), String.format(template, name));\\n\\t}\\n}\",\"type\":\"Document\"}\n",
      "======================================================================\n",
      "METADATA:\n",
      "=>source:\n",
      "\t/home/bram/projects/heavenlyhades/java/simple-api/src/main/java/com/example/restservice/GreetingController.java\n",
      "=>content_type:\n",
      "\tsimplified_code\n",
      "=>language:\n",
      "\tjava\n",
      "JSON DUMP:\n",
      "{\"id\":null,\"metadata\":{\"source\":\"/home/bram/projects/heavenlyhades/java/simple-api/src/main/java/com/example/restservice/GreetingController.java\",\"content_type\":\"simplified_code\",\"language\":\"java\"},\"page_content\":\"package com.example.restservice;\\n\\nimport java.util.concurrent.atomic.AtomicLong;\\n\\nimport org.springframework.web.bind.annotation.GetMapping;\\nimport org.springframework.web.bind.annotation.RequestParam;\\nimport org.springframework.web.bind.annotation.RestController;\\n\\n// Code for: @RestController\",\"type\":\"Document\"}\n",
      "======================================================================\n",
      "METADATA:\n",
      "=>source:\n",
      "\t/home/bram/projects/heavenlyhades/java/simple-api/src/main/java/com/example/restservice/RestServiceApplication.java\n",
      "=>content_type:\n",
      "\tfunctions_classes\n",
      "=>language:\n",
      "\tjava\n",
      "JSON DUMP:\n",
      "{\"id\":null,\"metadata\":{\"source\":\"/home/bram/projects/heavenlyhades/java/simple-api/src/main/java/com/example/restservice/RestServiceApplication.java\",\"content_type\":\"functions_classes\",\"language\":\"java\"},\"page_content\":\"@SpringBootApplication\\npublic class RestServiceApplication {\\n\\n\\tpublic static void main(String[] args) {\\n\\t\\tSpringApplication.run(RestServiceApplication.class, args);\\n\\t}\\n\\n}\",\"type\":\"Document\"}\n",
      "======================================================================\n",
      "METADATA:\n",
      "=>source:\n",
      "\t/home/bram/projects/heavenlyhades/java/simple-api/src/main/java/com/example/restservice/RestServiceApplication.java\n",
      "=>content_type:\n",
      "\tsimplified_code\n",
      "=>language:\n",
      "\tjava\n",
      "JSON DUMP:\n",
      "{\"id\":null,\"metadata\":{\"source\":\"/home/bram/projects/heavenlyhades/java/simple-api/src/main/java/com/example/restservice/RestServiceApplication.java\",\"content_type\":\"simplified_code\",\"language\":\"java\"},\"page_content\":\"package com.example.restservice;\\n\\nimport org.springframework.boot.SpringApplication;\\nimport org.springframework.boot.autoconfigure.SpringBootApplication;\\n\\n// Code for: @SpringBootApplication\",\"type\":\"Document\"}\n",
      "======================================================================\n",
      "METADATA:\n",
      "=>source:\n",
      "\t/home/bram/projects/heavenlyhades/java/simple-api/src/main/resources/application.properties\n",
      "JSON DUMP:\n",
      "{\"id\":null,\"metadata\":{\"source\":\"/home/bram/projects/heavenlyhades/java/simple-api/src/main/resources/application.properties\"},\"page_content\":\"debug=true\\n\",\"type\":\"Document\"}\n",
      "======================================================================\n"
     ]
    }
   ],
   "source": [
    "print(\"Total docs: \", len(documents))\n",
    "\n",
    "print(\"Doc (meta)data\")\n",
    "for doc in documents:\n",
    "    print(\"METADATA:\")\n",
    "    for k, v in doc.metadata.items():\n",
    "        print(f\"=>{k}:\\n\\t{v}\")\n",
    "    print(\"JSON DUMP:\")\n",
    "    print(doc.model_dump_json())\n",
    "    print(\"=\" * 70)"
   ]
  },
  {
   "cell_type": "markdown",
   "id": "39da576b",
   "metadata": {},
   "source": [
    "## Check document content loaded"
   ]
  },
  {
   "cell_type": "code",
   "execution_count": 5,
   "id": "2c9ac24e",
   "metadata": {
    "scrolled": false
   },
   "outputs": [
    {
     "name": "stdout",
     "output_type": "stream",
     "text": [
      "FILE:  /home/bram/projects/heavenlyhades/java/simple-api/src/main/java/com/example/restservice/Greeting.java\n",
      "CONTENT: \n",
      "package com.example.restservice;\n",
      "\n",
      "public record Greeting(long id, String content) { }\n",
      "======================================================================\n",
      "FILE:  /home/bram/projects/heavenlyhades/java/simple-api/src/main/java/com/example/restservice/GreetingController.java\n",
      "CONTENT: \n",
      "@RestController\n",
      "public class GreetingController {\n",
      "\n",
      "\tprivate static final String template = \"Hello, %s!\";\n",
      "\tprivate final AtomicLong counter = new AtomicLong();\n",
      "\n",
      "\t@GetMapping(\"/greeting\")\n",
      "\tpublic Greeting greeting(@RequestParam(value = \"name\", defaultValue = \"World\") String name) {\n",
      "\t\treturn new Greeting(counter.incrementAndGet(), String.format(template, name));\n",
      "\t}\n",
      "}\n",
      "======================================================================\n",
      "FILE:  /home/bram/projects/heavenlyhades/java/simple-api/src/main/java/com/example/restservice/GreetingController.java\n",
      "CONTENT: \n",
      "package com.example.restservice;\n",
      "\n",
      "import java.util.concurrent.atomic.AtomicLong;\n",
      "\n",
      "import org.springframework.web.bind.annotation.GetMapping;\n",
      "import org.springframework.web.bind.annotation.RequestParam;\n",
      "import org.springframework.web.bind.annotation.RestController;\n",
      "\n",
      "// Code for: @RestController\n",
      "======================================================================\n",
      "FILE:  /home/bram/projects/heavenlyhades/java/simple-api/src/main/java/com/example/restservice/RestServiceApplication.java\n",
      "CONTENT: \n",
      "@SpringBootApplication\n",
      "public class RestServiceApplication {\n",
      "\n",
      "\tpublic static void main(String[] args) {\n",
      "\t\tSpringApplication.run(RestServiceApplication.class, args);\n",
      "\t}\n",
      "\n",
      "}\n",
      "======================================================================\n",
      "FILE:  /home/bram/projects/heavenlyhades/java/simple-api/src/main/java/com/example/restservice/RestServiceApplication.java\n",
      "CONTENT: \n",
      "package com.example.restservice;\n",
      "\n",
      "import org.springframework.boot.SpringApplication;\n",
      "import org.springframework.boot.autoconfigure.SpringBootApplication;\n",
      "\n",
      "// Code for: @SpringBootApplication\n",
      "======================================================================\n",
      "FILE:  /home/bram/projects/heavenlyhades/java/simple-api/src/main/resources/application.properties\n",
      "CONTENT: \n",
      "debug=true\n",
      "\n",
      "======================================================================\n"
     ]
    }
   ],
   "source": [
    "for doc in documents:\n",
    "    print(\"FILE: \", doc.metadata[\"source\"])\n",
    "    print(\"CONTENT: \")\n",
    "    print(doc.page_content)\n",
    "    print(\"=\" * 70)"
   ]
  },
  {
   "cell_type": "markdown",
   "id": "1edc537b",
   "metadata": {},
   "source": [
    "## Initialize embedding model"
   ]
  },
  {
   "cell_type": "code",
   "execution_count": 6,
   "id": "7a6bbaa4",
   "metadata": {},
   "outputs": [],
   "source": [
    "embeddings = VoyageAIEmbeddings(model=\"voyage-code-2\", batch_size=1)"
   ]
  },
  {
   "cell_type": "markdown",
   "id": "e38a3395",
   "metadata": {},
   "source": [
    "## Create vector store\n",
    "Initialize simple vector store using [FAISS](https://faiss.ai/index.html).\n",
    "Use voyage model initialized above as the embedding function."
   ]
  },
  {
   "cell_type": "code",
   "execution_count": 7,
   "id": "546efb78",
   "metadata": {},
   "outputs": [],
   "source": [
    "sample_text = \"69-420\"  # example text to determine embedding size\n",
    "embedding_size = len(embeddings.embed_query(sample_text))\n",
    "index = faiss.IndexFlatL2(embedding_size)\n",
    "\n",
    "vector_store = FAISS(\n",
    "    embedding_function=embeddings,\n",
    "    index=index,\n",
    "    docstore=InMemoryDocstore(),\n",
    "    index_to_docstore_id={},\n",
    ")\n",
    "\n",
    "uuids = [str(uuid4()) for _ in range(len(documents))]"
   ]
  },
  {
   "cell_type": "code",
   "execution_count": 8,
   "id": "819e0611",
   "metadata": {},
   "outputs": [],
   "source": [
    "v_uuids = vector_store.add_documents(documents=documents, ids=uuids)"
   ]
  },
  {
   "cell_type": "markdown",
   "id": "24b1f2f3",
   "metadata": {},
   "source": [
    "## Similarity search | moment of truth 🙏"
   ]
  },
  {
   "cell_type": "code",
   "execution_count": 9,
   "id": "31e1099c",
   "metadata": {},
   "outputs": [],
   "source": [
    "retriever = vector_store.as_retriever(\n",
    "    search_type=\"mmr\",\n",
    "    search_kwargs={\"k\": 4, \"fetch_k\": 5, \"lambda_mult\": 0.25},\n",
    ")\n",
    "\n",
    "config_query_similarity = retriever.invoke(\n",
    "    \"This file is used to configure the application's port.\"\n",
    ")"
   ]
  },
  {
   "cell_type": "code",
   "execution_count": 10,
   "id": "fdec26a8",
   "metadata": {},
   "outputs": [
    {
     "name": "stdout",
     "output_type": "stream",
     "text": [
      "None\n",
      "/home/bram/projects/heavenlyhades/java/simple-api/src/main/java/com/example/restservice/RestServiceApplication.java\n",
      "Language.JAVA\n",
      "package com.example.restservice;\n",
      "\n",
      "import org.springframework.boot.SpringApplication;\n",
      "import org.springframework.boot.autoconfigure.SpringBootApplication;\n",
      "\n",
      "// Code for: @SpringBootApplication\n"
     ]
    }
   ],
   "source": [
    "print(config_query_similarity[0].id)\n",
    "print(config_query_similarity[0].metadata[\"source\"])\n",
    "print(config_query_similarity[0].metadata[\"language\"])\n",
    "print(config_query_similarity[0].page_content)"
   ]
  },
  {
   "cell_type": "markdown",
   "id": "a7287088",
   "metadata": {},
   "source": [
    "Not (what I would say) the most similar doc, which would be: `application.properties`."
   ]
  },
  {
   "cell_type": "code",
   "execution_count": 11,
   "id": "afa69eb3",
   "metadata": {},
   "outputs": [
    {
     "data": {
      "text/plain": [
       "'/home/bram/projects/heavenlyhades/java/simple-api/src/main/resources/application.properties'"
      ]
     },
     "execution_count": 11,
     "metadata": {},
     "output_type": "execute_result"
    }
   ],
   "source": [
    "config_query_similarity[1].metadata[\"source\"]"
   ]
  },
  {
   "cell_type": "markdown",
   "id": "726b563e",
   "metadata": {},
   "source": [
    "It however seems to finds the file I expected as 'second-most-similar'\n",
    "document.\n",
    "\n",
    "## Asking about API configuration"
   ]
  },
  {
   "cell_type": "code",
   "execution_count": 12,
   "id": "2be33f06",
   "metadata": {},
   "outputs": [
    {
     "name": "stdout",
     "output_type": "stream",
     "text": [
      "None\n",
      "/home/bram/projects/heavenlyhades/java/simple-api/src/main/java/com/example/restservice/GreetingController.java\n",
      "Language.JAVA\n",
      "@RestController\n",
      "public class GreetingController {\n",
      "\n",
      "\tprivate static final String template = \"Hello, %s!\";\n",
      "\tprivate final AtomicLong counter = new AtomicLong();\n",
      "\n",
      "\t@GetMapping(\"/greeting\")\n",
      "\tpublic Greeting greeting(@RequestParam(value = \"name\", defaultValue = \"World\") String name) {\n",
      "\t\treturn new Greeting(counter.incrementAndGet(), String.format(template, name));\n",
      "\t}\n",
      "}\n"
     ]
    }
   ],
   "source": [
    "endpoint_query_similarity = retriever.invoke(\n",
    "    \"The name of the endpoint is configured here.\"\n",
    ")\n",
    "\n",
    "print(endpoint_query_similarity[0].id)\n",
    "print(endpoint_query_similarity[0].metadata[\"source\"])\n",
    "print(endpoint_query_similarity[0].metadata[\"language\"])\n",
    "print(endpoint_query_similarity[0].page_content)"
   ]
  },
  {
   "cell_type": "markdown",
   "id": "b5cfd26b",
   "metadata": {},
   "source": [
    "\n",
    "This is actually the right place! 🥳\n",
    "\n",
    "However, if we ask it in a similar way:"
   ]
  },
  {
   "cell_type": "code",
   "execution_count": 13,
   "id": "b75f0765",
   "metadata": {},
   "outputs": [
    {
     "name": "stdout",
     "output_type": "stream",
     "text": [
      "None\n",
      "/home/bram/projects/heavenlyhades/java/simple-api/src/main/java/com/example/restservice/RestServiceApplication.java\n",
      "Language.JAVA\n",
      "package com.example.restservice;\n",
      "\n",
      "import org.springframework.boot.SpringApplication;\n",
      "import org.springframework.boot.autoconfigure.SpringBootApplication;\n",
      "\n",
      "// Code for: @SpringBootApplication\n"
     ]
    }
   ],
   "source": [
    "resource_query_similarity = retriever.invoke(\n",
    "    \"Name of an API resource is configured here.\"\n",
    ")\n",
    "\n",
    "print(resource_query_similarity[0].id)\n",
    "print(resource_query_similarity[0].metadata[\"source\"])\n",
    "print(resource_query_similarity[0].metadata[\"language\"])\n",
    "print(resource_query_similarity[0].page_content)"
   ]
  },
  {
   "cell_type": "markdown",
   "id": "6466b6ff",
   "metadata": {},
   "source": [
    "Would expect the previous answer (controller class) again."
   ]
  },
  {
   "cell_type": "markdown",
   "id": "a40254e2",
   "metadata": {},
   "source": [
    "# Conclusion\n",
    "\n",
    "Using voyage embedding + Java seems to give better results (for this simple\n",
    "setup), compared to C# + voyage vector store.\n",
    "\n",
    "Fair, since embedding model was trained on Java (see [Quantitative\n",
    "Evaluation](https://blog.voyageai.com/2024/01/23/voyage-code-2-elevate-your-code-retrieval/)).\n",
    "\n",
    "Assumed it would handle arbitrary programming languages better, especially\n",
    "since I'm feeding it _'Microsoft Java'_ (C#) instead of Java."
   ]
  }
 ],
 "metadata": {
  "kernelspec": {
   "display_name": "Python 3 (ipykernel)",
   "language": "python",
   "name": "python3"
  },
  "language_info": {
   "codemirror_mode": {
    "name": "ipython",
    "version": 3
   },
   "file_extension": ".py",
   "mimetype": "text/x-python",
   "name": "python",
   "nbconvert_exporter": "python",
   "pygments_lexer": "ipython3",
   "version": "3.9.19"
  }
 },
 "nbformat": 4,
 "nbformat_minor": 5
}
