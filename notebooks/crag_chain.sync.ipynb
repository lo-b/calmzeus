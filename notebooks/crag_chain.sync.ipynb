{
 "cells": [
  {
   "cell_type": "markdown",
   "id": "77e75801",
   "metadata": {},
   "source": [
    "# Building a simple LCEL chain with tracing\n",
    "## Intro\n",
    "How easy is it to create a simple RAG chain -- and how feasible is it to\n",
    "create an LLM-powered *'config-changer'*?\n",
    "\n",
    "A tool that is able to make configuration changes in a project given a user's\n",
    "instructions. E.g.:\n",
    "#### 🧑:\n",
    "\"_Show me how to make my app run on port 7777_\"\n",
    "\n",
    "---\n",
    "#### 🤖:\n",
    "It looks like your project is a **Java-based application powered by Spring Boot**. In order to change the port the application is running on you have to: ...\n",
    "\n",
    "I've **created a PR with the necessary changes** you to review:\n",
    "\\<link>\n",
    "\n",
    "## Goal\n",
    "Build a simple RAG chain to perform a config task on a simple Java\n",
    "application and evaluate its performance. Add tracing for rudimentary\n",
    "evaluation of the proposed change.\n",
    "\n",
    "# Before you start\n",
    "[voyage-code-2](https://blog.voyageai.com/2024/01/23/voyage-code-2-elevate-your-code-retrieval/)\n",
    "is used as the embedding model. [qdrant](https://qdrant.tech/) is used to store embeddings.\n",
    "\n",
    "Create an `.env` file and set the following env variables:\n",
    "- `VOYAGE_API_KEY` (api key)\n",
    "- `LANGCHAIN_TRACING_V2` (`true` | `false`)\n",
    "- `LANGCHAIN_ENDPOINT`\n",
    "- `LANGCHAIN_API_KEY`\n",
    "- `LANGCHAIN_PROJECT`\n",
    "- `QDRANT_API_KEY`\n",
    "- `QDRANT_CLUSTER_ENDPOINT`\n",
    "- `MISTRAL_API_KEY`\n",
    "\n",
    "Grab a copy of the Java source code, available\n",
    "[here](https://github.com/lo-b/heavenlyhades/tree/main/java/simple-api).\n",
    "The project inside the repo contains code of a (completed) Spring Boot\n",
    "tutorial of how to create an API."
   ]
  },
  {
   "cell_type": "markdown",
   "id": "41a7cc08",
   "metadata": {},
   "source": [
    "## Imports"
   ]
  },
  {
   "cell_type": "code",
   "execution_count": 1,
   "id": "3b621f20",
   "metadata": {},
   "outputs": [],
   "source": [
    "import os\n",
    "from uuid import uuid4\n",
    "\n",
    "from dotenv import load_dotenv\n",
    "from langchain import hub\n",
    "from langchain_community.document_loaders.generic import GenericLoader\n",
    "from langchain_community.document_loaders.parsers.language.language_parser import (\n",
    "    LanguageParser,\n",
    ")\n",
    "from langchain_core.output_parsers import StrOutputParser\n",
    "from langchain_core.runnables import RunnablePassthrough\n",
    "from langchain_mistralai.chat_models import ChatMistralAI\n",
    "from langchain_qdrant import QdrantVectorStore\n",
    "from langchain_text_splitters import Language\n",
    "from langchain_voyageai import VoyageAIEmbeddings\n",
    "from qdrant_client import QdrantClient\n",
    "from qdrant_client.http.models import Distance, VectorParams\n",
    "from rich import print as rprint"
   ]
  },
  {
   "cell_type": "code",
   "execution_count": 2,
   "id": "da513914",
   "metadata": {},
   "outputs": [],
   "source": [
    "assert load_dotenv(), \".env file should be defined\""
   ]
  },
  {
   "cell_type": "markdown",
   "id": "7356301e",
   "metadata": {},
   "source": [
    "## Define some consts"
   ]
  },
  {
   "cell_type": "code",
   "execution_count": 3,
   "id": "0d6be1ec",
   "metadata": {},
   "outputs": [],
   "source": [
    "QDRANT_COLLECTION_NAME = \"simple-java-api\"\n",
    "VOYAGE_MODEL_NAME = \"voyage-code-2\"\n",
    "SRC_CODE_PATH = \"/home/bram/projects/heavenlyhades/java/simple-api/\"\n",
    "MISTRAL_MODEL_NAME = \"open-codestral-mamba\""
   ]
  },
  {
   "cell_type": "markdown",
   "id": "ea762d94",
   "metadata": {},
   "source": [
    "## Load source code in as documents"
   ]
  },
  {
   "cell_type": "code",
   "execution_count": 4,
   "id": "bb3e779f",
   "metadata": {},
   "outputs": [
    {
     "name": "stderr",
     "output_type": "stream",
     "text": [
      "/home/bram/.pyenv/versions/3.9.19/envs/calmzeus/lib/python3.9/site-packages/tree_sitter/__init__.py:36: FutureWarning: Language(path, name) is deprecated. Use Language(ptr, name) instead.\n",
      "  warn(\"{} is deprecated. Use {} instead.\".format(old, new), FutureWarning)\n"
     ]
    }
   ],
   "source": [
    "loader = GenericLoader.from_filesystem(\n",
    "    SRC_CODE_PATH,\n",
    "    glob=\"**/src/main/**/[!.]*\",\n",
    "    suffixes=[\".java\", \".properties\"],\n",
    "    parser=LanguageParser(Language.JAVA),\n",
    ")\n",
    "documents = loader.load()"
   ]
  },
  {
   "cell_type": "code",
   "execution_count": 5,
   "id": "2c8d7ca7",
   "metadata": {},
   "outputs": [
    {
     "name": "stdout",
     "output_type": "stream",
     "text": [
      "loaded 6 files from disk\n"
     ]
    }
   ],
   "source": [
    "print(\"loaded\", len(documents), \"files from disk\")"
   ]
  },
  {
   "cell_type": "markdown",
   "id": "445b6b24",
   "metadata": {},
   "source": [
    "### Sample document"
   ]
  },
  {
   "cell_type": "code",
   "execution_count": 6,
   "id": "0a9b9fa5",
   "metadata": {},
   "outputs": [
    {
     "data": {
      "text/html": [
       "<pre style=\"white-space:pre;overflow-x:auto;line-height:normal;font-family:Menlo,'DejaVu Sans Mono',consolas,'Courier New',monospace\"><span style=\"color: #800080; text-decoration-color: #800080; font-weight: bold\">Document</span><span style=\"font-weight: bold\">(</span>\n",
       "    <span style=\"color: #808000; text-decoration-color: #808000\">metadata</span>=<span style=\"font-weight: bold\">{</span>\n",
       "        <span style=\"color: #008000; text-decoration-color: #008000\">'source'</span>: \n",
       "<span style=\"color: #008000; text-decoration-color: #008000\">'/home/bram/projects/heavenlyhades/java/simple-api/src/main/java/com/example/restservice/Greeting.java'</span>,\n",
       "        <span style=\"color: #008000; text-decoration-color: #008000\">'content_type'</span>: <span style=\"color: #008000; text-decoration-color: #008000\">'simplified_code'</span>,\n",
       "        <span style=\"color: #008000; text-decoration-color: #008000\">'language'</span>: <span style=\"font-weight: bold\">&lt;</span><span style=\"color: #ff00ff; text-decoration-color: #ff00ff; font-weight: bold\">Language.JAVA:</span><span style=\"color: #000000; text-decoration-color: #000000\"> </span><span style=\"color: #008000; text-decoration-color: #008000\">'java'</span><span style=\"font-weight: bold\">&gt;</span>\n",
       "    <span style=\"font-weight: bold\">}</span>,\n",
       "    <span style=\"color: #808000; text-decoration-color: #808000\">page_content</span>=<span style=\"color: #008000; text-decoration-color: #008000\">'package com.example.restservice;\\n\\npublic record Greeting(long id, String content) { }'</span>\n",
       "<span style=\"font-weight: bold\">)</span>\n",
       "</pre>\n"
      ],
      "text/plain": [
       "\u001b[1;35mDocument\u001b[0m\u001b[1m(\u001b[0m\n",
       "    \u001b[33mmetadata\u001b[0m=\u001b[1m{\u001b[0m\n",
       "        \u001b[32m'source'\u001b[0m: \n",
       "\u001b[32m'/home/bram/projects/heavenlyhades/java/simple-api/src/main/java/com/example/restservice/Greeting.java'\u001b[0m,\n",
       "        \u001b[32m'content_type'\u001b[0m: \u001b[32m'simplified_code'\u001b[0m,\n",
       "        \u001b[32m'language'\u001b[0m: \u001b[1m<\u001b[0m\u001b[1;95mLanguage.JAVA:\u001b[0m\u001b[39m \u001b[0m\u001b[32m'java'\u001b[0m\u001b[1m>\u001b[0m\n",
       "    \u001b[1m}\u001b[0m,\n",
       "    \u001b[33mpage_content\u001b[0m=\u001b[32m'package com.example.restservice;\\n\\npublic record Greeting\u001b[0m\u001b[32m(\u001b[0m\u001b[32mlong id, String content\u001b[0m\u001b[32m)\u001b[0m\u001b[32m \u001b[0m\u001b[32m{\u001b[0m\u001b[32m \u001b[0m\u001b[32m}\u001b[0m\u001b[32m'\u001b[0m\n",
       "\u001b[1m)\u001b[0m\n"
      ]
     },
     "metadata": {},
     "output_type": "display_data"
    }
   ],
   "source": [
    "rprint(documents[0])"
   ]
  },
  {
   "cell_type": "markdown",
   "id": "68201788",
   "metadata": {},
   "source": [
    "## Embed documents using Voyage.ai & store in vector DB"
   ]
  },
  {
   "cell_type": "code",
   "execution_count": 7,
   "id": "29c3851a",
   "metadata": {},
   "outputs": [],
   "source": [
    "embeddings = VoyageAIEmbeddings(model=VOYAGE_MODEL_NAME, batch_size=1)"
   ]
  },
  {
   "cell_type": "code",
   "execution_count": 8,
   "id": "84efa064",
   "metadata": {},
   "outputs": [],
   "source": [
    "sample_text = \"69-420\"  # example text to determine embedding size\n",
    "embedding_size = len(embeddings.embed_query(sample_text))\n",
    "\n",
    "uuids = [str(uuid4()) for _ in range(len(documents))]"
   ]
  },
  {
   "cell_type": "code",
   "execution_count": 9,
   "id": "cd15c721",
   "metadata": {},
   "outputs": [],
   "source": [
    "client = QdrantClient(\n",
    "    url=f\"https://{os.environ['QDRANT_CLUSTER_ENDPOINT']}:6333\",\n",
    "    api_key=os.environ[\"QDRANT_API_KEY\"],\n",
    ")\n",
    "\n",
    "_ = client.create_collection(\n",
    "    collection_name=QDRANT_COLLECTION_NAME,\n",
    "    vectors_config=VectorParams(size=embedding_size, distance=Distance.COSINE),\n",
    ")"
   ]
  },
  {
   "cell_type": "code",
   "execution_count": 10,
   "id": "07c98eaf",
   "metadata": {},
   "outputs": [],
   "source": [
    "vector_store = QdrantVectorStore(\n",
    "    client=client,\n",
    "    collection_name=QDRANT_COLLECTION_NAME,\n",
    "    embedding=embeddings,\n",
    ")\n",
    "\n",
    "v_uuids = vector_store.add_documents(documents=documents, ids=uuids)"
   ]
  },
  {
   "cell_type": "markdown",
   "id": "1e29584f",
   "metadata": {},
   "source": [
    "### Create vector db retriever"
   ]
  },
  {
   "cell_type": "code",
   "execution_count": 11,
   "id": "0d773a20",
   "metadata": {},
   "outputs": [],
   "source": [
    "retriever = vector_store.as_retriever(\n",
    "    search_type=\"mmr\",\n",
    "    search_kwargs={\"k\": 4, \"fetch_k\": 5, \"lambda_mult\": 0.25},\n",
    ")"
   ]
  },
  {
   "cell_type": "code",
   "execution_count": 12,
   "id": "31c98806",
   "metadata": {},
   "outputs": [],
   "source": [
    "llm = ChatMistralAI(model_name=MISTRAL_MODEL_NAME)"
   ]
  },
  {
   "cell_type": "code",
   "execution_count": 13,
   "id": "f85c54ff",
   "metadata": {},
   "outputs": [],
   "source": [
    "retriever = vector_store.as_retriever()\n",
    "prompt = hub.pull(\"lo-b/rag-config-assist-prompt\")"
   ]
  },
  {
   "cell_type": "markdown",
   "id": "6f1a86d4",
   "metadata": {},
   "source": [
    "# Building the actual chain + tracing"
   ]
  },
  {
   "cell_type": "code",
   "execution_count": 14,
   "id": "e3d9701f",
   "metadata": {},
   "outputs": [
    {
     "data": {
      "text/plain": [
       "\"To make the Java Spring Boot application run on port 7777, you need to modify the main method in the RestServiceApplication class and add a server.port property to the application.properties file. Here's the updated code:\\n\\napplication.properties:\\n```\\ndebug=true\\nserver.port=7777\\n```\\n\\nRestServiceApplication.java:\\n```java\\npackage com.example.restservice;\\n\\nimport org.springframework.boot.SpringApplication;\\nimport org.springframework.boot.autoconfigure.SpringBootApplication;\\n\\n@SpringBootApplication\\npublic class RestServiceApplication {\\n\\n    public static void main(String[] args) {\\n        SpringApplication.run(RestServiceApplication.class, args);\\n    }\\n}\\n```\""
      ]
     },
     "execution_count": 14,
     "metadata": {},
     "output_type": "execute_result"
    }
   ],
   "source": [
    "rag_chain = (\n",
    "    {\"context\": retriever, \"question\": RunnablePassthrough()}\n",
    "    | prompt\n",
    "    | llm\n",
    "    | StrOutputParser()\n",
    ")\n",
    "\n",
    "rag_chain.invoke(\"Show me how to make my app run on port 7777\")"
   ]
  },
  {
   "cell_type": "markdown",
   "id": "b8b20234",
   "metadata": {},
   "source": [
    "### LangSmith trace output\n",
    "Below, a print screen of the rag chain's execution trace where (rendered)\n",
    "input/output can be seen.\n",
    "\n",
    "The model gives the correct output (green) but also gives additional\n",
    "incorrect information (red). It is *not necessary* to 'change' the main\n",
    "class. The change is even -- I think -- what's already in the class too...\n",
    "![Voyage-Mistral-RAG](../assets/langsmith-trace-simple-java-api-voyage-mistral.png)\n",
    "\n",
    "NOTE: In previous runs model output contained additional, correct, info --\n",
    "something like: \"this is how to run your app\". Additional information could\n",
    "be useful but can also pollute output/complicate PR creation.\n",
    "\n",
    "# Conclusion\n",
    "Using a simple prompt\n",
    "(see 👉 [here](https://smith.langchain.com/hub/lo-b/rag-config-assist-prompt))\n",
    "to guide the generation model worked pretty decent.\n",
    "\n",
    "Initially, a local llama model was used which contained the correct answer,\n",
    "but it contained some quirks, highlighted in red:\n",
    "![Voyage-Llama-RAG](../assets/langsmith-trace-simple-java-api-voyage-local-llama.png)\n",
    "\n",
    "Swapping the local Llama model with Codestral showed better results. A\n",
    "downside is that it can't easily be hosted locally. I need a *whole stick* of\n",
    "16GB extra RAM to run it on my PC... After which, it most definitely won't\n",
    "fit into GPU memory, so I do not know what the latency will be.\n",
    "\n",
    "# Improvements\n",
    "- Prompt engineering: ensure model only outputs desired *commitable* change\n",
    "-- as of now, parsing output can be done but isn't ideal.\n",
    "- Track code structure: keep track which lines of a file are fed to the model\n",
    "as docs. Together with better prompt engineering above, model might be nudged\n",
    "into the direction of generating a '*pure*' PR change."
   ]
  }
 ],
 "metadata": {
  "kernelspec": {
   "display_name": "Python 3 (ipykernel)",
   "language": "python",
   "name": "python3"
  },
  "language_info": {
   "codemirror_mode": {
    "name": "ipython",
    "version": 3
   },
   "file_extension": ".py",
   "mimetype": "text/x-python",
   "name": "python",
   "nbconvert_exporter": "python",
   "pygments_lexer": "ipython3",
   "version": "3.9.19"
  }
 },
 "nbformat": 4,
 "nbformat_minor": 5
}
