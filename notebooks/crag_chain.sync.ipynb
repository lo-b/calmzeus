{
 "cells": [
  {
   "cell_type": "markdown",
   "id": "77e75801",
   "metadata": {},
   "source": [
    "# Building a simple LCEL chain with tracing\n",
    "## Intro\n",
    "How easy is it to create a simple RAG chain -- and how feasible is it to\n",
    "create an LLM-powered *'config-changer'*?\n",
    "\n",
    "A tool that is able to make configuration changes in a project given a user's\n",
    "instructions. E.g.:\n",
    "#### 🧑:\n",
    "\"_Show me how to make my app run on port 7777_\"\n",
    "\n",
    "---\n",
    "#### 🤖:\n",
    "It looks like your project is a **Java-based application powered by Spring Boot**. In order to change the port the application is running on you have to: ...\n",
    "\n",
    "I've **created a PR with the necessary changes** you to review:\n",
    "\\<link>\n",
    "\n",
    "## Goal\n",
    "Build a chain with tracing to see how a rudimentary vector store and local\n",
    "llama model perform for a simple configuration task.\n",
    "\n",
    "# Before you start\n",
    "[voyage-code-2](https://blog.voyageai.com/2024/01/23/voyage-code-2-elevate-your-code-retrieval/)\n",
    "is used as the embedding model. [qdrant](https://qdrant.tech/) is used to store embeddings.\n",
    "\n",
    "Create an `.env` file and set the following env variables:\n",
    "- `VOYAGE_API_KEY` (api key)\n",
    "- `LANGCHAIN_TRACING_V2` (`true` | `false`)\n",
    "- `LANGCHAIN_ENDPOINT`\n",
    "- `LANGCHAIN_API_KEY`\n",
    "- `LANGCHAIN_PROJECT`\n",
    "- `QDRANT_API_KEY`\n",
    "- `QDRANT_CLUSTER_ENDPOINT`\n",
    "\n",
    "Grab a copy of the Java source code, available\n",
    "[here](https://github.com/lo-b/heavenlyhades/tree/main/java/simple-api).\n",
    "The project inside the repo contains code of a (completed) Spring Boot\n",
    "tutorial of how to create an API."
   ]
  },
  {
   "cell_type": "markdown",
   "id": "41a7cc08",
   "metadata": {},
   "source": [
    "## Imports"
   ]
  },
  {
   "cell_type": "code",
   "execution_count": 1,
   "id": "3b621f20",
   "metadata": {},
   "outputs": [],
   "source": [
    "import os\n",
    "from uuid import uuid4\n",
    "\n",
    "from dotenv import load_dotenv\n",
    "from langchain import hub\n",
    "from langchain_community.document_loaders.generic import GenericLoader\n",
    "from langchain_community.document_loaders.parsers.language.language_parser import (\n",
    "    LanguageParser,\n",
    ")\n",
    "from langchain_core.output_parsers import StrOutputParser\n",
    "from langchain_core.runnables import RunnablePassthrough\n",
    "from langchain_ollama import ChatOllama\n",
    "from langchain_qdrant import QdrantVectorStore\n",
    "from langchain_text_splitters import Language\n",
    "from langchain_voyageai import VoyageAIEmbeddings\n",
    "from qdrant_client import QdrantClient\n",
    "from qdrant_client.http.models import Distance, VectorParams\n",
    "from rich import print as rprint"
   ]
  },
  {
   "cell_type": "code",
   "execution_count": 2,
   "id": "da513914",
   "metadata": {},
   "outputs": [],
   "source": [
    "assert load_dotenv(), \".env file should be defined\""
   ]
  },
  {
   "cell_type": "markdown",
   "id": "be867110",
   "metadata": {},
   "source": [
    "## Load source code in as documents"
   ]
  },
  {
   "cell_type": "code",
   "execution_count": 3,
   "id": "3db059b3",
   "metadata": {},
   "outputs": [
    {
     "name": "stderr",
     "output_type": "stream",
     "text": [
      "/home/bram/.pyenv/versions/3.9.19/envs/calmzeus/lib/python3.9/site-packages/tree_sitter/__init__.py:36: FutureWarning: Language(path, name) is deprecated. Use Language(ptr, name) instead.\n",
      "  warn(\"{} is deprecated. Use {} instead.\".format(old, new), FutureWarning)\n"
     ]
    }
   ],
   "source": [
    "src_code_dir = \"/home/bram/projects/heavenlyhades/java/simple-api/\"\n",
    "loader = GenericLoader.from_filesystem(\n",
    "    src_code_dir,\n",
    "    glob=\"**/src/main/**/[!.]*\",\n",
    "    suffixes=[\".java\", \".properties\"],\n",
    "    parser=LanguageParser(Language.JAVA),\n",
    ")\n",
    "documents = loader.load()"
   ]
  },
  {
   "cell_type": "code",
   "execution_count": 4,
   "id": "b977ebf6",
   "metadata": {},
   "outputs": [
    {
     "name": "stdout",
     "output_type": "stream",
     "text": [
      "loaded  6  from disk\n"
     ]
    }
   ],
   "source": [
    "print(\"loaded \", len(documents), \" from disk\")"
   ]
  },
  {
   "cell_type": "markdown",
   "id": "d166a105",
   "metadata": {},
   "source": [
    "### Sample document"
   ]
  },
  {
   "cell_type": "code",
   "execution_count": 5,
   "id": "51c70d23",
   "metadata": {},
   "outputs": [
    {
     "data": {
      "text/html": [
       "<pre style=\"white-space:pre;overflow-x:auto;line-height:normal;font-family:Menlo,'DejaVu Sans Mono',consolas,'Courier New',monospace\"><span style=\"color: #800080; text-decoration-color: #800080; font-weight: bold\">Document</span><span style=\"font-weight: bold\">(</span>\n",
       "    <span style=\"color: #808000; text-decoration-color: #808000\">metadata</span>=<span style=\"font-weight: bold\">{</span>\n",
       "        <span style=\"color: #008000; text-decoration-color: #008000\">'source'</span>: \n",
       "<span style=\"color: #008000; text-decoration-color: #008000\">'/home/bram/projects/heavenlyhades/java/simple-api/src/main/java/com/example/restservice/Greeting.java'</span>,\n",
       "        <span style=\"color: #008000; text-decoration-color: #008000\">'content_type'</span>: <span style=\"color: #008000; text-decoration-color: #008000\">'simplified_code'</span>,\n",
       "        <span style=\"color: #008000; text-decoration-color: #008000\">'language'</span>: <span style=\"font-weight: bold\">&lt;</span><span style=\"color: #ff00ff; text-decoration-color: #ff00ff; font-weight: bold\">Language.JAVA:</span><span style=\"color: #000000; text-decoration-color: #000000\"> </span><span style=\"color: #008000; text-decoration-color: #008000\">'java'</span><span style=\"font-weight: bold\">&gt;</span>\n",
       "    <span style=\"font-weight: bold\">}</span>,\n",
       "    <span style=\"color: #808000; text-decoration-color: #808000\">page_content</span>=<span style=\"color: #008000; text-decoration-color: #008000\">'package com.example.restservice;\\n\\npublic record Greeting(long id, String content) { }'</span>\n",
       "<span style=\"font-weight: bold\">)</span>\n",
       "</pre>\n"
      ],
      "text/plain": [
       "\u001b[1;35mDocument\u001b[0m\u001b[1m(\u001b[0m\n",
       "    \u001b[33mmetadata\u001b[0m=\u001b[1m{\u001b[0m\n",
       "        \u001b[32m'source'\u001b[0m: \n",
       "\u001b[32m'/home/bram/projects/heavenlyhades/java/simple-api/src/main/java/com/example/restservice/Greeting.java'\u001b[0m,\n",
       "        \u001b[32m'content_type'\u001b[0m: \u001b[32m'simplified_code'\u001b[0m,\n",
       "        \u001b[32m'language'\u001b[0m: \u001b[1m<\u001b[0m\u001b[1;95mLanguage.JAVA:\u001b[0m\u001b[39m \u001b[0m\u001b[32m'java'\u001b[0m\u001b[1m>\u001b[0m\n",
       "    \u001b[1m}\u001b[0m,\n",
       "    \u001b[33mpage_content\u001b[0m=\u001b[32m'package com.example.restservice;\\n\\npublic record Greeting\u001b[0m\u001b[32m(\u001b[0m\u001b[32mlong id, String content\u001b[0m\u001b[32m)\u001b[0m\u001b[32m \u001b[0m\u001b[32m{\u001b[0m\u001b[32m \u001b[0m\u001b[32m}\u001b[0m\u001b[32m'\u001b[0m\n",
       "\u001b[1m)\u001b[0m\n"
      ]
     },
     "metadata": {},
     "output_type": "display_data"
    }
   ],
   "source": [
    "rprint(documents[0])"
   ]
  },
  {
   "cell_type": "markdown",
   "id": "4d6b873b",
   "metadata": {},
   "source": [
    "## Embed documents using Voyage.ai & store in vector DB"
   ]
  },
  {
   "cell_type": "code",
   "execution_count": 6,
   "id": "84efa064",
   "metadata": {},
   "outputs": [],
   "source": [
    "embeddings = VoyageAIEmbeddings(model=\"voyage-code-2\", batch_size=1)"
   ]
  },
  {
   "cell_type": "code",
   "execution_count": 7,
   "id": "cd15c721",
   "metadata": {},
   "outputs": [],
   "source": [
    "sample_text = \"69-420\"  # example text to determine embedding size\n",
    "embedding_size = len(embeddings.embed_query(sample_text))\n",
    "\n",
    "uuids = [str(uuid4()) for _ in range(len(documents))]"
   ]
  },
  {
   "cell_type": "code",
   "execution_count": 8,
   "id": "d6773cff",
   "metadata": {},
   "outputs": [],
   "source": [
    "client = QdrantClient(\n",
    "    url=f\"https://{os.environ['QDRANT_CLUSTER_ENDPOINT']}:6333\",\n",
    "    api_key=os.environ[\"QDRANT_API_KEY\"],\n",
    ")\n",
    "\n",
    "_ = client.create_collection(\n",
    "    collection_name=\"simple-java-api\",\n",
    "    vectors_config=VectorParams(size=embedding_size, distance=Distance.COSINE),\n",
    ")"
   ]
  },
  {
   "cell_type": "code",
   "execution_count": 9,
   "id": "a903bcc0",
   "metadata": {},
   "outputs": [],
   "source": [
    "vector_store = QdrantVectorStore(\n",
    "    client=client,\n",
    "    collection_name=\"simple-java-api\",\n",
    "    embedding=embeddings,\n",
    ")"
   ]
  },
  {
   "cell_type": "code",
   "execution_count": 10,
   "id": "db2308c8",
   "metadata": {},
   "outputs": [],
   "source": [
    "v_uuids = vector_store.add_documents(documents=documents, ids=uuids)"
   ]
  },
  {
   "cell_type": "markdown",
   "id": "cc3509a3",
   "metadata": {},
   "source": [
    "### Create vector db retriever"
   ]
  },
  {
   "cell_type": "code",
   "execution_count": 11,
   "id": "742f1d39",
   "metadata": {},
   "outputs": [],
   "source": [
    "retriever = vector_store.as_retriever(\n",
    "    search_type=\"mmr\",\n",
    "    search_kwargs={\"k\": 4, \"fetch_k\": 5, \"lambda_mult\": 0.25},\n",
    ")"
   ]
  },
  {
   "cell_type": "code",
   "execution_count": 12,
   "id": "4283c205",
   "metadata": {},
   "outputs": [],
   "source": [
    "# TODO: Ollama setup\n",
    "llm = ChatOllama(\n",
    "    model=\"llama3.2:1b\",\n",
    "    temperature=0,\n",
    "    num_gpu=1,\n",
    ")"
   ]
  },
  {
   "cell_type": "code",
   "execution_count": 13,
   "id": "afa67d63",
   "metadata": {},
   "outputs": [],
   "source": [
    "retriever = vector_store.as_retriever()\n",
    "# TODO: make prompt public or refactor\n",
    "prompt = hub.pull(\"simplig-crag-config-prompt\")"
   ]
  },
  {
   "cell_type": "markdown",
   "id": "ff56890d",
   "metadata": {},
   "source": [
    "# Building the actual chain + tracing"
   ]
  },
  {
   "cell_type": "code",
   "execution_count": 14,
   "id": "5e37e309",
   "metadata": {},
   "outputs": [
    {
     "data": {
      "text/plain": [
       "\"I can't provide you with a code change that would overwrite the existing underlying file to create a pull request (PR). \\n\\nIf you're looking to run your app on port 7777, I can suggest an alternative approach. You could create a configuration file that specifies the port number and then use this file as a starting point for your application.\\n\\nHere's an example of how you could do this:\\n\\nCreate a new file called `application.properties` in the root directory of your project with the following content:\\n```properties\\nserver.port=7777\\n```\\nThen, in your Java application, you can import and use this configuration file as follows:\\n```java\\nimport org.springframework.boot.SpringApplication;\\nimport org.springframework.boot.autoconfigure.SpringBootApplication;\\n\\n@SpringBootApplication\\npublic class MyApplication {\\n    public static void main(String[] args) {\\n        SpringApplication.run(MyApplication.class, args);\\n    }\\n}\\n```\\nThis will start your application on port 7777.\\n\\nAlternatively, if you want to keep the existing `application.properties` file and just update it with the new port number, you can do so by creating a new file called `application.properties.new` in the root directory of your project. Then, open this new file and update the contents to:\\n```properties\\nserver.port=7777\\n```\\nFinally, delete the original `application.properties` file and rename the new one back to `application.properties`. This will overwrite the existing file with the new configuration.\\n\\nNote that you'll need to make sure that your application is configured to use the new port number. You can do this by updating the `server.port` property in your `application.yml` or `application.json` files (if you're using a different configuration format) to match the new value.\""
      ]
     },
     "execution_count": 14,
     "metadata": {},
     "output_type": "execute_result"
    }
   ],
   "source": [
    "rag_chain = (\n",
    "    {\"context\": retriever, \"question\": RunnablePassthrough()}\n",
    "    | prompt\n",
    "    | llm\n",
    "    | StrOutputParser()\n",
    ")\n",
    "\n",
    "rag_chain.invoke(\"Show me how to make my app run on port 7777\")"
   ]
  }
 ],
 "metadata": {
  "kernelspec": {
   "display_name": "Python 3 (ipykernel)",
   "language": "python",
   "name": "python3"
  },
  "language_info": {
   "codemirror_mode": {
    "name": "ipython",
    "version": 3
   },
   "file_extension": ".py",
   "mimetype": "text/x-python",
   "name": "python",
   "nbconvert_exporter": "python",
   "pygments_lexer": "ipython3",
   "version": "3.9.19"
  }
 },
 "nbformat": 4,
 "nbformat_minor": 5
}
