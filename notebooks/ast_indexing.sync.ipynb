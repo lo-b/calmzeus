{
 "cells": [
  {
   "cell_type": "markdown",
   "id": "70a490a6",
   "metadata": {},
   "source": [
    "# Explore AST-based indexing\n",
    "## Intro\n",
    "It's not trivial to *post process* LLM output and then manually piece\n",
    "together *what exact* `sed` (what else can I use to do a CLI-based text edit?)\n",
    "command to run.\n",
    "\n",
    "Why not use an AI (agent -- another LLM) to do this for us 😄.\n",
    "\n",
    "Given documents are parsed using\n",
    "[treesitter](https://tree-sitter.github.io/tree-sitter/)\n",
    "for additional metadata in the form of an AST, how accurate is an answer\n",
    "when this additional metadata is fed in? For a very simple task it does well:\n",
    "![Treesitter infused prompt](../assets/treesitter-context-prompt-gpt4-example.png)\n",
    "\n",
    "Again, there's additional bloat in the response but running the exact command\n",
    "against the file gives back the desired commitable change:\n",
    "![git diff after cmd](../assets/diff-after-sed-command.png)\n",
    "\n",
    "## Goal\n",
    "Explore treesitter ASTs and add parsed tree output as metadata to a loaded\n",
    "document.\n",
    "> 🤔 Note that in previous exploration, chunk size was set to low. Therefore,\n",
    "a single file probably got split into multiples documents containing a\n",
    "file/code snippet where a snippet can contain something like\n",
    "`//Code for @SpringBootApp...` to refer to another related snippet/doc --\n",
    "keep this in mind!"
   ]
  }
 ],
 "metadata": {
  "kernelspec": {
   "display_name": "Python 3 (ipykernel)",
   "language": "python",
   "name": "python3"
  },
  "language_info": {
   "codemirror_mode": {
    "name": "ipython",
    "version": 3
   },
   "file_extension": ".py",
   "mimetype": "text/x-python",
   "name": "python",
   "nbconvert_exporter": "python",
   "pygments_lexer": "ipython3",
   "version": "3.9.19"
  }
 },
 "nbformat": 4,
 "nbformat_minor": 5
}
