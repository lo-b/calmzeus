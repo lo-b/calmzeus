{
 "cells": [
  {
   "cell_type": "markdown",
   "id": "70a490a6",
   "metadata": {},
   "source": [
    "# Explore CST-based indexing\n",
    "## Intro\n",
    "It's not trivial to *post process* LLM output and then manually piece\n",
    "together *what exact* `sed` (or similar tool to edit text) command to run.\n",
    "\n",
    "A possible solution could be to hook up another model to reason about\n",
    "the action to take (also called an *agent*) to do this for us 😄. However,\n",
    "let's take a step back and see if feeding additional context works.\n",
    "\n",
    "Given documents are parsed using\n",
    "[treesitter](https://tree-sitter.github.io/tree-sitter/)\n",
    "for additional metadata in the form of a context syntax tree (CST), how\n",
    "accurate is an answer when this additional metadata is fed in?\n",
    "For a very simple task it does well:\n",
    "![Treesitter infused prompt](../assets/treesitter-context-prompt-gpt4-example.png)\n",
    "\n",
    "Again, there's additional bloat in the response but running the exact command\n",
    "against the file gives back the desired commitable change:\n",
    "![git diff after cmd](../assets/diff-after-sed-command.png)\n",
    "\n",
    "## Goal\n",
    "Explore treesitter CSTs and add parsed tree output as metadata to a loaded\n",
    "document.\n",
    "> 🤔 Note that in previous exploration, chunk size was set to low. Therefore,\n",
    "a single file probably got split into multiples documents containing a\n",
    "file/code snippet where a snippet can contain something like\n",
    "`//Code for @SpringBootApp...` to refer to another related snippet/doc --\n",
    "keep this in mind!"
   ]
  },
  {
   "cell_type": "markdown",
   "id": "0bf467b0",
   "metadata": {},
   "source": [
    "# Exploration\n",
    "## Imports"
   ]
  },
  {
   "cell_type": "code",
   "execution_count": 1,
   "id": "1e9efe96",
   "metadata": {},
   "outputs": [],
   "source": [
    "import json\n",
    "from typing import Any, TypedDict\n",
    "\n",
    "from dotenv import load_dotenv\n",
    "from langchain_community.document_loaders.generic import GenericLoader\n",
    "from langchain_community.document_loaders.parsers.language.language_parser import (\n",
    "    LanguageParser,\n",
    ")\n",
    "from langchain_core.documents import Document\n",
    "from langchain_text_splitters import (\n",
    "    Language as SplitterLanguage,\n",
    ")\n",
    "from rich import print as rprint\n",
    "from tree_sitter import Language, Node, Parser, Tree"
   ]
  },
  {
   "cell_type": "markdown",
   "id": "5962105b",
   "metadata": {},
   "source": [
    "## load env vars"
   ]
  },
  {
   "cell_type": "code",
   "execution_count": 2,
   "id": "d0f7a633",
   "metadata": {},
   "outputs": [],
   "source": [
    "assert load_dotenv(), \".env file with variable present\""
   ]
  },
  {
   "cell_type": "markdown",
   "id": "5fe66c1d",
   "metadata": {},
   "source": [
    "## Load & create parser"
   ]
  },
  {
   "cell_type": "code",
   "execution_count": 3,
   "id": "8aab04cc",
   "metadata": {},
   "outputs": [
    {
     "name": "stderr",
     "output_type": "stream",
     "text": [
      "/home/bram/.pyenv/versions/3.9.19/envs/calmzeus/lib/python3.9/site-packages/tree_sitter/__init__.py:36: FutureWarning: Language(path, name) is deprecated. Use Language(ptr, name) instead.\n",
      "  warn(\"{} is deprecated. Use {} instead.\".format(old, new), FutureWarning)\n"
     ]
    }
   ],
   "source": [
    "# load in parser libs for 'properties' file\n",
    "LANG_NAME = \"properties\"\n",
    "JPROP_LANGUAGE = Language(\"../parsers/ts-properties.so\", LANG_NAME)\n",
    "\n",
    "# create parser\n",
    "parser = Parser()\n",
    "parser.set_language(JPROP_LANGUAGE)"
   ]
  },
  {
   "cell_type": "markdown",
   "id": "cd5b666b",
   "metadata": {},
   "source": [
    "## Parse file and create CST (context syntax tree)"
   ]
  },
  {
   "cell_type": "code",
   "execution_count": 4,
   "id": "7381a0f5",
   "metadata": {},
   "outputs": [],
   "source": [
    "# mock `application.properties` file\n",
    "file_contents: bytes = bytes(\n",
    "    \"debug=true\\nanotherPropKey='propValue'\",\n",
    "    \"utf-8\",\n",
    ")\n",
    "tree: Tree = parser.parse(file_contents)"
   ]
  },
  {
   "cell_type": "markdown",
   "id": "d7c0e704",
   "metadata": {},
   "source": [
    "### Some info about the tree\n",
    "#### Root node"
   ]
  },
  {
   "cell_type": "code",
   "execution_count": 5,
   "id": "d11a9fe6",
   "metadata": {},
   "outputs": [
    {
     "data": {
      "text/html": [
       "<pre style=\"white-space:pre;overflow-x:auto;line-height:normal;font-family:Menlo,'DejaVu Sans Mono',consolas,'Courier New',monospace\"><span style=\"font-weight: bold\">&lt;</span><span style=\"color: #ff00ff; text-decoration-color: #ff00ff; font-weight: bold\">Node</span><span style=\"color: #000000; text-decoration-color: #000000\"> </span><span style=\"color: #808000; text-decoration-color: #808000\">type</span><span style=\"color: #000000; text-decoration-color: #000000\">=</span><span style=\"color: #800080; text-decoration-color: #800080\">file</span><span style=\"color: #000000; text-decoration-color: #000000\">, </span><span style=\"color: #808000; text-decoration-color: #808000\">start_point</span><span style=\"color: #000000; text-decoration-color: #000000\">=</span><span style=\"color: #000000; text-decoration-color: #000000; font-weight: bold\">(</span><span style=\"color: #008080; text-decoration-color: #008080; font-weight: bold\">0</span><span style=\"color: #000000; text-decoration-color: #000000\">, </span><span style=\"color: #008080; text-decoration-color: #008080; font-weight: bold\">0</span><span style=\"color: #000000; text-decoration-color: #000000; font-weight: bold\">)</span><span style=\"color: #000000; text-decoration-color: #000000\">, </span><span style=\"color: #808000; text-decoration-color: #808000\">end_point</span><span style=\"color: #000000; text-decoration-color: #000000\">=</span><span style=\"color: #000000; text-decoration-color: #000000; font-weight: bold\">(</span><span style=\"color: #008080; text-decoration-color: #008080; font-weight: bold\">1</span><span style=\"color: #000000; text-decoration-color: #000000\">, </span><span style=\"color: #008080; text-decoration-color: #008080; font-weight: bold\">26</span><span style=\"color: #000000; text-decoration-color: #000000; font-weight: bold\">)</span><span style=\"font-weight: bold\">&gt;</span>\n",
       "</pre>\n"
      ],
      "text/plain": [
       "\u001b[1m<\u001b[0m\u001b[1;95mNode\u001b[0m\u001b[39m \u001b[0m\u001b[33mtype\u001b[0m\u001b[39m=\u001b[0m\u001b[35mfile\u001b[0m\u001b[39m, \u001b[0m\u001b[33mstart_point\u001b[0m\u001b[39m=\u001b[0m\u001b[1;39m(\u001b[0m\u001b[1;36m0\u001b[0m\u001b[39m, \u001b[0m\u001b[1;36m0\u001b[0m\u001b[1;39m)\u001b[0m\u001b[39m, \u001b[0m\u001b[33mend_point\u001b[0m\u001b[39m=\u001b[0m\u001b[1;39m(\u001b[0m\u001b[1;36m1\u001b[0m\u001b[39m, \u001b[0m\u001b[1;36m26\u001b[0m\u001b[1;39m)\u001b[0m\u001b[1m>\u001b[0m\n"
      ]
     },
     "metadata": {},
     "output_type": "display_data"
    }
   ],
   "source": [
    "rprint(tree.root_node)"
   ]
  },
  {
   "cell_type": "markdown",
   "id": "06ed53d7",
   "metadata": {},
   "source": [
    "A node (for the file) spanning from line 0, column 0 to line 1 column 26."
   ]
  },
  {
   "cell_type": "markdown",
   "id": "bc912a64",
   "metadata": {},
   "source": [
    "#### tree as a 'string' expression"
   ]
  },
  {
   "cell_type": "code",
   "execution_count": 6,
   "id": "2aeaf94b",
   "metadata": {},
   "outputs": [
    {
     "data": {
      "text/html": [
       "<pre style=\"white-space:pre;overflow-x:auto;line-height:normal;font-family:Menlo,'DejaVu Sans Mono',consolas,'Courier New',monospace\"><span style=\"font-weight: bold\">(</span>file <span style=\"font-weight: bold\">(</span>property <span style=\"font-weight: bold\">(</span>key<span style=\"font-weight: bold\">)</span> <span style=\"font-weight: bold\">(</span>value<span style=\"font-weight: bold\">))</span> <span style=\"font-weight: bold\">(</span>property <span style=\"font-weight: bold\">(</span>key<span style=\"font-weight: bold\">)</span> <span style=\"font-weight: bold\">(</span>value<span style=\"font-weight: bold\">)))</span>\n",
       "</pre>\n"
      ],
      "text/plain": [
       "\u001b[1m(\u001b[0mfile \u001b[1m(\u001b[0mproperty \u001b[1m(\u001b[0mkey\u001b[1m)\u001b[0m \u001b[1m(\u001b[0mvalue\u001b[1m)\u001b[0m\u001b[1m)\u001b[0m \u001b[1m(\u001b[0mproperty \u001b[1m(\u001b[0mkey\u001b[1m)\u001b[0m \u001b[1m(\u001b[0mvalue\u001b[1m)\u001b[0m\u001b[1m)\u001b[0m\u001b[1m)\u001b[0m\n"
      ]
     },
     "metadata": {},
     "output_type": "display_data"
    }
   ],
   "source": [
    "rprint(tree.root_node.sexp())"
   ]
  },
  {
   "cell_type": "markdown",
   "id": "3b31f0fb",
   "metadata": {},
   "source": [
    "#### descendants"
   ]
  },
  {
   "cell_type": "code",
   "execution_count": 7,
   "id": "f032ba7b",
   "metadata": {},
   "outputs": [
    {
     "name": "stdout",
     "output_type": "stream",
     "text": [
      "9\n"
     ]
    }
   ],
   "source": [
    "print(tree.root_node.descendant_count)"
   ]
  },
  {
   "cell_type": "markdown",
   "id": "67c1a546",
   "metadata": {},
   "source": [
    "## Convert tree to dictionary\n",
    "Create *pre-order traversal* (first process a node itself, then its children)\n",
    "algorithm to convert CST to JSON."
   ]
  },
  {
   "cell_type": "code",
   "execution_count": 8,
   "id": "8c13b074",
   "metadata": {},
   "outputs": [],
   "source": [
    "class NodeDict(TypedDict):\n",
    "    grammar_name: str\n",
    "    text: str\n",
    "    start: tuple[int, int]\n",
    "    end: tuple[int, int]\n",
    "    children: list[Any]  # Ideally of type NodeDict... 🔁\n",
    "\n",
    "\n",
    "def node_to_dict(node: Node) -> NodeDict:\n",
    "    node_dict: NodeDict = {\n",
    "        \"grammar_name\": node.grammar_name,\n",
    "        \"text\": bytes.decode(node.text),\n",
    "        \"start\": node.start_point,\n",
    "        \"end\": node.end_point,\n",
    "        \"children\": [],\n",
    "    }\n",
    "\n",
    "    for child in node.children:\n",
    "        node_dict[\"children\"].append(node_to_dict(child))\n",
    "\n",
    "    return node_dict"
   ]
  },
  {
   "cell_type": "markdown",
   "id": "81032b76",
   "metadata": {},
   "source": [
    "## pretty print JSON of parsed CST"
   ]
  },
  {
   "cell_type": "code",
   "execution_count": 9,
   "id": "51cdf5a4",
   "metadata": {
    "scrolled": true
   },
   "outputs": [
    {
     "data": {
      "text/html": [
       "<pre style=\"white-space:pre;overflow-x:auto;line-height:normal;font-family:Menlo,'DejaVu Sans Mono',consolas,'Courier New',monospace\"><span style=\"font-weight: bold\">{</span>\n",
       "  <span style=\"color: #008000; text-decoration-color: #008000\">\"grammar_name\"</span>: <span style=\"color: #008000; text-decoration-color: #008000\">\"file\"</span>,\n",
       "  <span style=\"color: #008000; text-decoration-color: #008000\">\"text\"</span>: <span style=\"color: #008000; text-decoration-color: #008000\">\"debug=true\\nanotherPropKey='propValue'\"</span>,\n",
       "  <span style=\"color: #008000; text-decoration-color: #008000\">\"start\"</span>: <span style=\"font-weight: bold\">[</span>\n",
       "    <span style=\"color: #008080; text-decoration-color: #008080; font-weight: bold\">0</span>,\n",
       "    <span style=\"color: #008080; text-decoration-color: #008080; font-weight: bold\">0</span>\n",
       "  <span style=\"font-weight: bold\">]</span>,\n",
       "  <span style=\"color: #008000; text-decoration-color: #008000\">\"end\"</span>: <span style=\"font-weight: bold\">[</span>\n",
       "    <span style=\"color: #008080; text-decoration-color: #008080; font-weight: bold\">1</span>,\n",
       "    <span style=\"color: #008080; text-decoration-color: #008080; font-weight: bold\">26</span>\n",
       "  <span style=\"font-weight: bold\">]</span>,\n",
       "  <span style=\"color: #008000; text-decoration-color: #008000\">\"children\"</span>: <span style=\"font-weight: bold\">[</span>\n",
       "    <span style=\"font-weight: bold\">{</span>\n",
       "      <span style=\"color: #008000; text-decoration-color: #008000\">\"grammar_name\"</span>: <span style=\"color: #008000; text-decoration-color: #008000\">\"property\"</span>,\n",
       "      <span style=\"color: #008000; text-decoration-color: #008000\">\"text\"</span>: <span style=\"color: #008000; text-decoration-color: #008000\">\"debug=true\"</span>,\n",
       "      <span style=\"color: #008000; text-decoration-color: #008000\">\"start\"</span>: <span style=\"font-weight: bold\">[</span>\n",
       "        <span style=\"color: #008080; text-decoration-color: #008080; font-weight: bold\">0</span>,\n",
       "        <span style=\"color: #008080; text-decoration-color: #008080; font-weight: bold\">0</span>\n",
       "      <span style=\"font-weight: bold\">]</span>,\n",
       "      <span style=\"color: #008000; text-decoration-color: #008000\">\"end\"</span>: <span style=\"font-weight: bold\">[</span>\n",
       "        <span style=\"color: #008080; text-decoration-color: #008080; font-weight: bold\">0</span>,\n",
       "        <span style=\"color: #008080; text-decoration-color: #008080; font-weight: bold\">10</span>\n",
       "      <span style=\"font-weight: bold\">]</span>,\n",
       "      <span style=\"color: #008000; text-decoration-color: #008000\">\"children\"</span>: <span style=\"font-weight: bold\">[</span>\n",
       "        <span style=\"font-weight: bold\">{</span>\n",
       "          <span style=\"color: #008000; text-decoration-color: #008000\">\"grammar_name\"</span>: <span style=\"color: #008000; text-decoration-color: #008000\">\"key\"</span>,\n",
       "          <span style=\"color: #008000; text-decoration-color: #008000\">\"text\"</span>: <span style=\"color: #008000; text-decoration-color: #008000\">\"debug\"</span>,\n",
       "          <span style=\"color: #008000; text-decoration-color: #008000\">\"start\"</span>: <span style=\"font-weight: bold\">[</span>\n",
       "            <span style=\"color: #008080; text-decoration-color: #008080; font-weight: bold\">0</span>,\n",
       "            <span style=\"color: #008080; text-decoration-color: #008080; font-weight: bold\">0</span>\n",
       "          <span style=\"font-weight: bold\">]</span>,\n",
       "          <span style=\"color: #008000; text-decoration-color: #008000\">\"end\"</span>: <span style=\"font-weight: bold\">[</span>\n",
       "            <span style=\"color: #008080; text-decoration-color: #008080; font-weight: bold\">0</span>,\n",
       "            <span style=\"color: #008080; text-decoration-color: #008080; font-weight: bold\">5</span>\n",
       "          <span style=\"font-weight: bold\">]</span>,\n",
       "          <span style=\"color: #008000; text-decoration-color: #008000\">\"children\"</span>: <span style=\"font-weight: bold\">[]</span>\n",
       "        <span style=\"font-weight: bold\">}</span>,\n",
       "        <span style=\"font-weight: bold\">{</span>\n",
       "          <span style=\"color: #008000; text-decoration-color: #008000\">\"grammar_name\"</span>: <span style=\"color: #008000; text-decoration-color: #008000\">\"=\"</span>,\n",
       "          <span style=\"color: #008000; text-decoration-color: #008000\">\"text\"</span>: <span style=\"color: #008000; text-decoration-color: #008000\">\"=\"</span>,\n",
       "          <span style=\"color: #008000; text-decoration-color: #008000\">\"start\"</span>: <span style=\"font-weight: bold\">[</span>\n",
       "            <span style=\"color: #008080; text-decoration-color: #008080; font-weight: bold\">0</span>,\n",
       "            <span style=\"color: #008080; text-decoration-color: #008080; font-weight: bold\">5</span>\n",
       "          <span style=\"font-weight: bold\">]</span>,\n",
       "          <span style=\"color: #008000; text-decoration-color: #008000\">\"end\"</span>: <span style=\"font-weight: bold\">[</span>\n",
       "            <span style=\"color: #008080; text-decoration-color: #008080; font-weight: bold\">0</span>,\n",
       "            <span style=\"color: #008080; text-decoration-color: #008080; font-weight: bold\">6</span>\n",
       "          <span style=\"font-weight: bold\">]</span>,\n",
       "          <span style=\"color: #008000; text-decoration-color: #008000\">\"children\"</span>: <span style=\"font-weight: bold\">[]</span>\n",
       "        <span style=\"font-weight: bold\">}</span>,\n",
       "        <span style=\"font-weight: bold\">{</span>\n",
       "          <span style=\"color: #008000; text-decoration-color: #008000\">\"grammar_name\"</span>: <span style=\"color: #008000; text-decoration-color: #008000\">\"value\"</span>,\n",
       "          <span style=\"color: #008000; text-decoration-color: #008000\">\"text\"</span>: <span style=\"color: #008000; text-decoration-color: #008000\">\"true\"</span>,\n",
       "          <span style=\"color: #008000; text-decoration-color: #008000\">\"start\"</span>: <span style=\"font-weight: bold\">[</span>\n",
       "            <span style=\"color: #008080; text-decoration-color: #008080; font-weight: bold\">0</span>,\n",
       "            <span style=\"color: #008080; text-decoration-color: #008080; font-weight: bold\">6</span>\n",
       "          <span style=\"font-weight: bold\">]</span>,\n",
       "          <span style=\"color: #008000; text-decoration-color: #008000\">\"end\"</span>: <span style=\"font-weight: bold\">[</span>\n",
       "            <span style=\"color: #008080; text-decoration-color: #008080; font-weight: bold\">0</span>,\n",
       "            <span style=\"color: #008080; text-decoration-color: #008080; font-weight: bold\">10</span>\n",
       "          <span style=\"font-weight: bold\">]</span>,\n",
       "          <span style=\"color: #008000; text-decoration-color: #008000\">\"children\"</span>: <span style=\"font-weight: bold\">[]</span>\n",
       "        <span style=\"font-weight: bold\">}</span>\n",
       "      <span style=\"font-weight: bold\">]</span>\n",
       "    <span style=\"font-weight: bold\">}</span>,\n",
       "    <span style=\"font-weight: bold\">{</span>\n",
       "      <span style=\"color: #008000; text-decoration-color: #008000\">\"grammar_name\"</span>: <span style=\"color: #008000; text-decoration-color: #008000\">\"property\"</span>,\n",
       "      <span style=\"color: #008000; text-decoration-color: #008000\">\"text\"</span>: <span style=\"color: #008000; text-decoration-color: #008000\">\"anotherPropKey='propValue'\"</span>,\n",
       "      <span style=\"color: #008000; text-decoration-color: #008000\">\"start\"</span>: <span style=\"font-weight: bold\">[</span>\n",
       "        <span style=\"color: #008080; text-decoration-color: #008080; font-weight: bold\">1</span>,\n",
       "        <span style=\"color: #008080; text-decoration-color: #008080; font-weight: bold\">0</span>\n",
       "      <span style=\"font-weight: bold\">]</span>,\n",
       "      <span style=\"color: #008000; text-decoration-color: #008000\">\"end\"</span>: <span style=\"font-weight: bold\">[</span>\n",
       "        <span style=\"color: #008080; text-decoration-color: #008080; font-weight: bold\">1</span>,\n",
       "        <span style=\"color: #008080; text-decoration-color: #008080; font-weight: bold\">26</span>\n",
       "      <span style=\"font-weight: bold\">]</span>,\n",
       "      <span style=\"color: #008000; text-decoration-color: #008000\">\"children\"</span>: <span style=\"font-weight: bold\">[</span>\n",
       "        <span style=\"font-weight: bold\">{</span>\n",
       "          <span style=\"color: #008000; text-decoration-color: #008000\">\"grammar_name\"</span>: <span style=\"color: #008000; text-decoration-color: #008000\">\"key\"</span>,\n",
       "          <span style=\"color: #008000; text-decoration-color: #008000\">\"text\"</span>: <span style=\"color: #008000; text-decoration-color: #008000\">\"anotherPropKey\"</span>,\n",
       "          <span style=\"color: #008000; text-decoration-color: #008000\">\"start\"</span>: <span style=\"font-weight: bold\">[</span>\n",
       "            <span style=\"color: #008080; text-decoration-color: #008080; font-weight: bold\">1</span>,\n",
       "            <span style=\"color: #008080; text-decoration-color: #008080; font-weight: bold\">0</span>\n",
       "          <span style=\"font-weight: bold\">]</span>,\n",
       "          <span style=\"color: #008000; text-decoration-color: #008000\">\"end\"</span>: <span style=\"font-weight: bold\">[</span>\n",
       "            <span style=\"color: #008080; text-decoration-color: #008080; font-weight: bold\">1</span>,\n",
       "            <span style=\"color: #008080; text-decoration-color: #008080; font-weight: bold\">14</span>\n",
       "          <span style=\"font-weight: bold\">]</span>,\n",
       "          <span style=\"color: #008000; text-decoration-color: #008000\">\"children\"</span>: <span style=\"font-weight: bold\">[]</span>\n",
       "        <span style=\"font-weight: bold\">}</span>,\n",
       "        <span style=\"font-weight: bold\">{</span>\n",
       "          <span style=\"color: #008000; text-decoration-color: #008000\">\"grammar_name\"</span>: <span style=\"color: #008000; text-decoration-color: #008000\">\"=\"</span>,\n",
       "          <span style=\"color: #008000; text-decoration-color: #008000\">\"text\"</span>: <span style=\"color: #008000; text-decoration-color: #008000\">\"=\"</span>,\n",
       "          <span style=\"color: #008000; text-decoration-color: #008000\">\"start\"</span>: <span style=\"font-weight: bold\">[</span>\n",
       "            <span style=\"color: #008080; text-decoration-color: #008080; font-weight: bold\">1</span>,\n",
       "            <span style=\"color: #008080; text-decoration-color: #008080; font-weight: bold\">14</span>\n",
       "          <span style=\"font-weight: bold\">]</span>,\n",
       "          <span style=\"color: #008000; text-decoration-color: #008000\">\"end\"</span>: <span style=\"font-weight: bold\">[</span>\n",
       "            <span style=\"color: #008080; text-decoration-color: #008080; font-weight: bold\">1</span>,\n",
       "            <span style=\"color: #008080; text-decoration-color: #008080; font-weight: bold\">15</span>\n",
       "          <span style=\"font-weight: bold\">]</span>,\n",
       "          <span style=\"color: #008000; text-decoration-color: #008000\">\"children\"</span>: <span style=\"font-weight: bold\">[]</span>\n",
       "        <span style=\"font-weight: bold\">}</span>,\n",
       "        <span style=\"font-weight: bold\">{</span>\n",
       "          <span style=\"color: #008000; text-decoration-color: #008000\">\"grammar_name\"</span>: <span style=\"color: #008000; text-decoration-color: #008000\">\"value\"</span>,\n",
       "          <span style=\"color: #008000; text-decoration-color: #008000\">\"text\"</span>: <span style=\"color: #008000; text-decoration-color: #008000\">\"'propValue'\"</span>,\n",
       "          <span style=\"color: #008000; text-decoration-color: #008000\">\"start\"</span>: <span style=\"font-weight: bold\">[</span>\n",
       "            <span style=\"color: #008080; text-decoration-color: #008080; font-weight: bold\">1</span>,\n",
       "            <span style=\"color: #008080; text-decoration-color: #008080; font-weight: bold\">15</span>\n",
       "          <span style=\"font-weight: bold\">]</span>,\n",
       "          <span style=\"color: #008000; text-decoration-color: #008000\">\"end\"</span>: <span style=\"font-weight: bold\">[</span>\n",
       "            <span style=\"color: #008080; text-decoration-color: #008080; font-weight: bold\">1</span>,\n",
       "            <span style=\"color: #008080; text-decoration-color: #008080; font-weight: bold\">26</span>\n",
       "          <span style=\"font-weight: bold\">]</span>,\n",
       "          <span style=\"color: #008000; text-decoration-color: #008000\">\"children\"</span>: <span style=\"font-weight: bold\">[]</span>\n",
       "        <span style=\"font-weight: bold\">}</span>\n",
       "      <span style=\"font-weight: bold\">]</span>\n",
       "    <span style=\"font-weight: bold\">}</span>\n",
       "  <span style=\"font-weight: bold\">]</span>\n",
       "<span style=\"font-weight: bold\">}</span>\n",
       "</pre>\n"
      ],
      "text/plain": [
       "\u001b[1m{\u001b[0m\n",
       "  \u001b[32m\"grammar_name\"\u001b[0m: \u001b[32m\"file\"\u001b[0m,\n",
       "  \u001b[32m\"text\"\u001b[0m: \u001b[32m\"\u001b[0m\u001b[32mdebug\u001b[0m\u001b[32m=\u001b[0m\u001b[32mtrue\u001b[0m\u001b[32m\\\u001b[0m\u001b[32mnanotherPropKey\u001b[0m\u001b[32m='propValue'\"\u001b[0m,\n",
       "  \u001b[32m\"start\"\u001b[0m: \u001b[1m[\u001b[0m\n",
       "    \u001b[1;36m0\u001b[0m,\n",
       "    \u001b[1;36m0\u001b[0m\n",
       "  \u001b[1m]\u001b[0m,\n",
       "  \u001b[32m\"end\"\u001b[0m: \u001b[1m[\u001b[0m\n",
       "    \u001b[1;36m1\u001b[0m,\n",
       "    \u001b[1;36m26\u001b[0m\n",
       "  \u001b[1m]\u001b[0m,\n",
       "  \u001b[32m\"children\"\u001b[0m: \u001b[1m[\u001b[0m\n",
       "    \u001b[1m{\u001b[0m\n",
       "      \u001b[32m\"grammar_name\"\u001b[0m: \u001b[32m\"property\"\u001b[0m,\n",
       "      \u001b[32m\"text\"\u001b[0m: \u001b[32m\"\u001b[0m\u001b[32mdebug\u001b[0m\u001b[32m=\u001b[0m\u001b[32mtrue\"\u001b[0m,\n",
       "      \u001b[32m\"start\"\u001b[0m: \u001b[1m[\u001b[0m\n",
       "        \u001b[1;36m0\u001b[0m,\n",
       "        \u001b[1;36m0\u001b[0m\n",
       "      \u001b[1m]\u001b[0m,\n",
       "      \u001b[32m\"end\"\u001b[0m: \u001b[1m[\u001b[0m\n",
       "        \u001b[1;36m0\u001b[0m,\n",
       "        \u001b[1;36m10\u001b[0m\n",
       "      \u001b[1m]\u001b[0m,\n",
       "      \u001b[32m\"children\"\u001b[0m: \u001b[1m[\u001b[0m\n",
       "        \u001b[1m{\u001b[0m\n",
       "          \u001b[32m\"grammar_name\"\u001b[0m: \u001b[32m\"key\"\u001b[0m,\n",
       "          \u001b[32m\"text\"\u001b[0m: \u001b[32m\"debug\"\u001b[0m,\n",
       "          \u001b[32m\"start\"\u001b[0m: \u001b[1m[\u001b[0m\n",
       "            \u001b[1;36m0\u001b[0m,\n",
       "            \u001b[1;36m0\u001b[0m\n",
       "          \u001b[1m]\u001b[0m,\n",
       "          \u001b[32m\"end\"\u001b[0m: \u001b[1m[\u001b[0m\n",
       "            \u001b[1;36m0\u001b[0m,\n",
       "            \u001b[1;36m5\u001b[0m\n",
       "          \u001b[1m]\u001b[0m,\n",
       "          \u001b[32m\"children\"\u001b[0m: \u001b[1m[\u001b[0m\u001b[1m]\u001b[0m\n",
       "        \u001b[1m}\u001b[0m,\n",
       "        \u001b[1m{\u001b[0m\n",
       "          \u001b[32m\"grammar_name\"\u001b[0m: \u001b[32m\"=\"\u001b[0m,\n",
       "          \u001b[32m\"text\"\u001b[0m: \u001b[32m\"=\"\u001b[0m,\n",
       "          \u001b[32m\"start\"\u001b[0m: \u001b[1m[\u001b[0m\n",
       "            \u001b[1;36m0\u001b[0m,\n",
       "            \u001b[1;36m5\u001b[0m\n",
       "          \u001b[1m]\u001b[0m,\n",
       "          \u001b[32m\"end\"\u001b[0m: \u001b[1m[\u001b[0m\n",
       "            \u001b[1;36m0\u001b[0m,\n",
       "            \u001b[1;36m6\u001b[0m\n",
       "          \u001b[1m]\u001b[0m,\n",
       "          \u001b[32m\"children\"\u001b[0m: \u001b[1m[\u001b[0m\u001b[1m]\u001b[0m\n",
       "        \u001b[1m}\u001b[0m,\n",
       "        \u001b[1m{\u001b[0m\n",
       "          \u001b[32m\"grammar_name\"\u001b[0m: \u001b[32m\"value\"\u001b[0m,\n",
       "          \u001b[32m\"text\"\u001b[0m: \u001b[32m\"true\"\u001b[0m,\n",
       "          \u001b[32m\"start\"\u001b[0m: \u001b[1m[\u001b[0m\n",
       "            \u001b[1;36m0\u001b[0m,\n",
       "            \u001b[1;36m6\u001b[0m\n",
       "          \u001b[1m]\u001b[0m,\n",
       "          \u001b[32m\"end\"\u001b[0m: \u001b[1m[\u001b[0m\n",
       "            \u001b[1;36m0\u001b[0m,\n",
       "            \u001b[1;36m10\u001b[0m\n",
       "          \u001b[1m]\u001b[0m,\n",
       "          \u001b[32m\"children\"\u001b[0m: \u001b[1m[\u001b[0m\u001b[1m]\u001b[0m\n",
       "        \u001b[1m}\u001b[0m\n",
       "      \u001b[1m]\u001b[0m\n",
       "    \u001b[1m}\u001b[0m,\n",
       "    \u001b[1m{\u001b[0m\n",
       "      \u001b[32m\"grammar_name\"\u001b[0m: \u001b[32m\"property\"\u001b[0m,\n",
       "      \u001b[32m\"text\"\u001b[0m: \u001b[32m\"\u001b[0m\u001b[32manotherPropKey\u001b[0m\u001b[32m='propValue'\"\u001b[0m,\n",
       "      \u001b[32m\"start\"\u001b[0m: \u001b[1m[\u001b[0m\n",
       "        \u001b[1;36m1\u001b[0m,\n",
       "        \u001b[1;36m0\u001b[0m\n",
       "      \u001b[1m]\u001b[0m,\n",
       "      \u001b[32m\"end\"\u001b[0m: \u001b[1m[\u001b[0m\n",
       "        \u001b[1;36m1\u001b[0m,\n",
       "        \u001b[1;36m26\u001b[0m\n",
       "      \u001b[1m]\u001b[0m,\n",
       "      \u001b[32m\"children\"\u001b[0m: \u001b[1m[\u001b[0m\n",
       "        \u001b[1m{\u001b[0m\n",
       "          \u001b[32m\"grammar_name\"\u001b[0m: \u001b[32m\"key\"\u001b[0m,\n",
       "          \u001b[32m\"text\"\u001b[0m: \u001b[32m\"anotherPropKey\"\u001b[0m,\n",
       "          \u001b[32m\"start\"\u001b[0m: \u001b[1m[\u001b[0m\n",
       "            \u001b[1;36m1\u001b[0m,\n",
       "            \u001b[1;36m0\u001b[0m\n",
       "          \u001b[1m]\u001b[0m,\n",
       "          \u001b[32m\"end\"\u001b[0m: \u001b[1m[\u001b[0m\n",
       "            \u001b[1;36m1\u001b[0m,\n",
       "            \u001b[1;36m14\u001b[0m\n",
       "          \u001b[1m]\u001b[0m,\n",
       "          \u001b[32m\"children\"\u001b[0m: \u001b[1m[\u001b[0m\u001b[1m]\u001b[0m\n",
       "        \u001b[1m}\u001b[0m,\n",
       "        \u001b[1m{\u001b[0m\n",
       "          \u001b[32m\"grammar_name\"\u001b[0m: \u001b[32m\"=\"\u001b[0m,\n",
       "          \u001b[32m\"text\"\u001b[0m: \u001b[32m\"=\"\u001b[0m,\n",
       "          \u001b[32m\"start\"\u001b[0m: \u001b[1m[\u001b[0m\n",
       "            \u001b[1;36m1\u001b[0m,\n",
       "            \u001b[1;36m14\u001b[0m\n",
       "          \u001b[1m]\u001b[0m,\n",
       "          \u001b[32m\"end\"\u001b[0m: \u001b[1m[\u001b[0m\n",
       "            \u001b[1;36m1\u001b[0m,\n",
       "            \u001b[1;36m15\u001b[0m\n",
       "          \u001b[1m]\u001b[0m,\n",
       "          \u001b[32m\"children\"\u001b[0m: \u001b[1m[\u001b[0m\u001b[1m]\u001b[0m\n",
       "        \u001b[1m}\u001b[0m,\n",
       "        \u001b[1m{\u001b[0m\n",
       "          \u001b[32m\"grammar_name\"\u001b[0m: \u001b[32m\"value\"\u001b[0m,\n",
       "          \u001b[32m\"text\"\u001b[0m: \u001b[32m\"'propValue'\"\u001b[0m,\n",
       "          \u001b[32m\"start\"\u001b[0m: \u001b[1m[\u001b[0m\n",
       "            \u001b[1;36m1\u001b[0m,\n",
       "            \u001b[1;36m15\u001b[0m\n",
       "          \u001b[1m]\u001b[0m,\n",
       "          \u001b[32m\"end\"\u001b[0m: \u001b[1m[\u001b[0m\n",
       "            \u001b[1;36m1\u001b[0m,\n",
       "            \u001b[1;36m26\u001b[0m\n",
       "          \u001b[1m]\u001b[0m,\n",
       "          \u001b[32m\"children\"\u001b[0m: \u001b[1m[\u001b[0m\u001b[1m]\u001b[0m\n",
       "        \u001b[1m}\u001b[0m\n",
       "      \u001b[1m]\u001b[0m\n",
       "    \u001b[1m}\u001b[0m\n",
       "  \u001b[1m]\u001b[0m\n",
       "\u001b[1m}\u001b[0m\n"
      ]
     },
     "metadata": {},
     "output_type": "display_data"
    }
   ],
   "source": [
    "rprint(json.dumps(node_to_dict(tree.root_node), indent=2))"
   ]
  },
  {
   "cell_type": "markdown",
   "id": "729337db",
   "metadata": {},
   "source": [
    "## Add CST to document metadata\n",
    "Add *context syntax tree* (CST) dictionary to `.properties` files because\n",
    "only this parser (language) is set up.\n",
    "### Load docs"
   ]
  },
  {
   "cell_type": "code",
   "execution_count": 10,
   "id": "f99a0afe",
   "metadata": {},
   "outputs": [
    {
     "name": "stdout",
     "output_type": "stream",
     "text": [
      "loaded 6 docs\n"
     ]
    }
   ],
   "source": [
    "java_code_dir = \"/home/bram/projects/heavenlyhades/java/simple-api/\"\n",
    "loader = GenericLoader.from_filesystem(\n",
    "    java_code_dir,\n",
    "    glob=\"**/src/main/**/[!.]*\",\n",
    "    suffixes=[\".java\", \".properties\"],\n",
    "    parser=LanguageParser(SplitterLanguage.JAVA),\n",
    ")\n",
    "documents = loader.load()\n",
    "print(\"loaded\", len(documents), \"docs\")"
   ]
  },
  {
   "cell_type": "markdown",
   "id": "bf67f497",
   "metadata": {},
   "source": [
    "### Enrich metadata with CST"
   ]
  },
  {
   "cell_type": "code",
   "execution_count": 11,
   "id": "e5eb5df2",
   "metadata": {},
   "outputs": [
    {
     "data": {
      "text/html": [
       "<pre style=\"white-space:pre;overflow-x:auto;line-height:normal;font-family:Menlo,'DejaVu Sans Mono',consolas,'Courier New',monospace\"><span style=\"color: #800080; text-decoration-color: #800080; font-weight: bold\">Document</span><span style=\"font-weight: bold\">(</span>\n",
       "    <span style=\"color: #808000; text-decoration-color: #808000\">metadata</span>=<span style=\"font-weight: bold\">{</span>\n",
       "        <span style=\"color: #008000; text-decoration-color: #008000\">'source'</span>: <span style=\"color: #008000; text-decoration-color: #008000\">'/home/bram/projects/heavenlyhades/java/simple-api/src/main/resources/application.properties'</span>,\n",
       "        <span style=\"color: #008000; text-decoration-color: #008000\">'content_type'</span>: <span style=\"color: #008000; text-decoration-color: #008000\">'simplified_code'</span>,\n",
       "        <span style=\"color: #008000; text-decoration-color: #008000\">'language'</span>: <span style=\"font-weight: bold\">&lt;</span><span style=\"color: #ff00ff; text-decoration-color: #ff00ff; font-weight: bold\">Language.JAVA:</span><span style=\"color: #000000; text-decoration-color: #000000\"> </span><span style=\"color: #008000; text-decoration-color: #008000\">'java'</span><span style=\"font-weight: bold\">&gt;</span>,\n",
       "        <span style=\"color: #008000; text-decoration-color: #008000\">'cst'</span>: <span style=\"font-weight: bold\">{</span>\n",
       "            <span style=\"color: #008000; text-decoration-color: #008000\">'grammar_name'</span>: <span style=\"color: #008000; text-decoration-color: #008000\">'file'</span>,\n",
       "            <span style=\"color: #008000; text-decoration-color: #008000\">'text'</span>: <span style=\"color: #008000; text-decoration-color: #008000\">'debug=false'</span>,\n",
       "            <span style=\"color: #008000; text-decoration-color: #008000\">'start'</span>: <span style=\"font-weight: bold\">(</span><span style=\"color: #008080; text-decoration-color: #008080; font-weight: bold\">0</span>, <span style=\"color: #008080; text-decoration-color: #008080; font-weight: bold\">0</span><span style=\"font-weight: bold\">)</span>,\n",
       "            <span style=\"color: #008000; text-decoration-color: #008000\">'end'</span>: <span style=\"font-weight: bold\">(</span><span style=\"color: #008080; text-decoration-color: #008080; font-weight: bold\">0</span>, <span style=\"color: #008080; text-decoration-color: #008080; font-weight: bold\">11</span><span style=\"font-weight: bold\">)</span>,\n",
       "            <span style=\"color: #008000; text-decoration-color: #008000\">'children'</span>: <span style=\"font-weight: bold\">[</span>\n",
       "                <span style=\"font-weight: bold\">{</span>\n",
       "                    <span style=\"color: #008000; text-decoration-color: #008000\">'grammar_name'</span>: <span style=\"color: #008000; text-decoration-color: #008000\">'property'</span>,\n",
       "                    <span style=\"color: #008000; text-decoration-color: #008000\">'text'</span>: <span style=\"color: #008000; text-decoration-color: #008000\">'debug=false'</span>,\n",
       "                    <span style=\"color: #008000; text-decoration-color: #008000\">'start'</span>: <span style=\"font-weight: bold\">(</span><span style=\"color: #008080; text-decoration-color: #008080; font-weight: bold\">0</span>, <span style=\"color: #008080; text-decoration-color: #008080; font-weight: bold\">0</span><span style=\"font-weight: bold\">)</span>,\n",
       "                    <span style=\"color: #008000; text-decoration-color: #008000\">'end'</span>: <span style=\"font-weight: bold\">(</span><span style=\"color: #008080; text-decoration-color: #008080; font-weight: bold\">0</span>, <span style=\"color: #008080; text-decoration-color: #008080; font-weight: bold\">11</span><span style=\"font-weight: bold\">)</span>,\n",
       "                    <span style=\"color: #008000; text-decoration-color: #008000\">'children'</span>: <span style=\"font-weight: bold\">[</span>\n",
       "                        <span style=\"font-weight: bold\">{</span><span style=\"color: #008000; text-decoration-color: #008000\">'grammar_name'</span>: <span style=\"color: #008000; text-decoration-color: #008000\">'key'</span>, <span style=\"color: #008000; text-decoration-color: #008000\">'text'</span>: <span style=\"color: #008000; text-decoration-color: #008000\">'debug'</span>, <span style=\"color: #008000; text-decoration-color: #008000\">'start'</span>: <span style=\"font-weight: bold\">(</span><span style=\"color: #008080; text-decoration-color: #008080; font-weight: bold\">0</span>, <span style=\"color: #008080; text-decoration-color: #008080; font-weight: bold\">0</span><span style=\"font-weight: bold\">)</span>, <span style=\"color: #008000; text-decoration-color: #008000\">'end'</span>: <span style=\"font-weight: bold\">(</span><span style=\"color: #008080; text-decoration-color: #008080; font-weight: bold\">0</span>, <span style=\"color: #008080; text-decoration-color: #008080; font-weight: bold\">5</span><span style=\"font-weight: bold\">)</span>, <span style=\"color: #008000; text-decoration-color: #008000\">'children'</span>: <span style=\"font-weight: bold\">[]}</span>,\n",
       "                        <span style=\"font-weight: bold\">{</span><span style=\"color: #008000; text-decoration-color: #008000\">'grammar_name'</span>: <span style=\"color: #008000; text-decoration-color: #008000\">'='</span>, <span style=\"color: #008000; text-decoration-color: #008000\">'text'</span>: <span style=\"color: #008000; text-decoration-color: #008000\">'='</span>, <span style=\"color: #008000; text-decoration-color: #008000\">'start'</span>: <span style=\"font-weight: bold\">(</span><span style=\"color: #008080; text-decoration-color: #008080; font-weight: bold\">0</span>, <span style=\"color: #008080; text-decoration-color: #008080; font-weight: bold\">5</span><span style=\"font-weight: bold\">)</span>, <span style=\"color: #008000; text-decoration-color: #008000\">'end'</span>: <span style=\"font-weight: bold\">(</span><span style=\"color: #008080; text-decoration-color: #008080; font-weight: bold\">0</span>, <span style=\"color: #008080; text-decoration-color: #008080; font-weight: bold\">6</span><span style=\"font-weight: bold\">)</span>, <span style=\"color: #008000; text-decoration-color: #008000\">'children'</span>: <span style=\"font-weight: bold\">[]}</span>,\n",
       "                        <span style=\"font-weight: bold\">{</span>\n",
       "                            <span style=\"color: #008000; text-decoration-color: #008000\">'grammar_name'</span>: <span style=\"color: #008000; text-decoration-color: #008000\">'value'</span>,\n",
       "                            <span style=\"color: #008000; text-decoration-color: #008000\">'text'</span>: <span style=\"color: #008000; text-decoration-color: #008000\">'false'</span>,\n",
       "                            <span style=\"color: #008000; text-decoration-color: #008000\">'start'</span>: <span style=\"font-weight: bold\">(</span><span style=\"color: #008080; text-decoration-color: #008080; font-weight: bold\">0</span>, <span style=\"color: #008080; text-decoration-color: #008080; font-weight: bold\">6</span><span style=\"font-weight: bold\">)</span>,\n",
       "                            <span style=\"color: #008000; text-decoration-color: #008000\">'end'</span>: <span style=\"font-weight: bold\">(</span><span style=\"color: #008080; text-decoration-color: #008080; font-weight: bold\">0</span>, <span style=\"color: #008080; text-decoration-color: #008080; font-weight: bold\">11</span><span style=\"font-weight: bold\">)</span>,\n",
       "                            <span style=\"color: #008000; text-decoration-color: #008000\">'children'</span>: <span style=\"font-weight: bold\">[]</span>\n",
       "                        <span style=\"font-weight: bold\">}</span>\n",
       "                    <span style=\"font-weight: bold\">]</span>\n",
       "                <span style=\"font-weight: bold\">}</span>\n",
       "            <span style=\"font-weight: bold\">]</span>\n",
       "        <span style=\"font-weight: bold\">}</span>\n",
       "    <span style=\"font-weight: bold\">}</span>,\n",
       "    <span style=\"color: #808000; text-decoration-color: #808000\">page_content</span>=<span style=\"color: #008000; text-decoration-color: #008000\">'debug=false'</span>\n",
       "<span style=\"font-weight: bold\">)</span>\n",
       "</pre>\n"
      ],
      "text/plain": [
       "\u001b[1;35mDocument\u001b[0m\u001b[1m(\u001b[0m\n",
       "    \u001b[33mmetadata\u001b[0m=\u001b[1m{\u001b[0m\n",
       "        \u001b[32m'source'\u001b[0m: \u001b[32m'/home/bram/projects/heavenlyhades/java/simple-api/src/main/resources/application.properties'\u001b[0m,\n",
       "        \u001b[32m'content_type'\u001b[0m: \u001b[32m'simplified_code'\u001b[0m,\n",
       "        \u001b[32m'language'\u001b[0m: \u001b[1m<\u001b[0m\u001b[1;95mLanguage.JAVA:\u001b[0m\u001b[39m \u001b[0m\u001b[32m'java'\u001b[0m\u001b[1m>\u001b[0m,\n",
       "        \u001b[32m'cst'\u001b[0m: \u001b[1m{\u001b[0m\n",
       "            \u001b[32m'grammar_name'\u001b[0m: \u001b[32m'file'\u001b[0m,\n",
       "            \u001b[32m'text'\u001b[0m: \u001b[32m'\u001b[0m\u001b[32mdebug\u001b[0m\u001b[32m=\u001b[0m\u001b[32mfalse\u001b[0m\u001b[32m'\u001b[0m,\n",
       "            \u001b[32m'start'\u001b[0m: \u001b[1m(\u001b[0m\u001b[1;36m0\u001b[0m, \u001b[1;36m0\u001b[0m\u001b[1m)\u001b[0m,\n",
       "            \u001b[32m'end'\u001b[0m: \u001b[1m(\u001b[0m\u001b[1;36m0\u001b[0m, \u001b[1;36m11\u001b[0m\u001b[1m)\u001b[0m,\n",
       "            \u001b[32m'children'\u001b[0m: \u001b[1m[\u001b[0m\n",
       "                \u001b[1m{\u001b[0m\n",
       "                    \u001b[32m'grammar_name'\u001b[0m: \u001b[32m'property'\u001b[0m,\n",
       "                    \u001b[32m'text'\u001b[0m: \u001b[32m'\u001b[0m\u001b[32mdebug\u001b[0m\u001b[32m=\u001b[0m\u001b[32mfalse\u001b[0m\u001b[32m'\u001b[0m,\n",
       "                    \u001b[32m'start'\u001b[0m: \u001b[1m(\u001b[0m\u001b[1;36m0\u001b[0m, \u001b[1;36m0\u001b[0m\u001b[1m)\u001b[0m,\n",
       "                    \u001b[32m'end'\u001b[0m: \u001b[1m(\u001b[0m\u001b[1;36m0\u001b[0m, \u001b[1;36m11\u001b[0m\u001b[1m)\u001b[0m,\n",
       "                    \u001b[32m'children'\u001b[0m: \u001b[1m[\u001b[0m\n",
       "                        \u001b[1m{\u001b[0m\u001b[32m'grammar_name'\u001b[0m: \u001b[32m'key'\u001b[0m, \u001b[32m'text'\u001b[0m: \u001b[32m'debug'\u001b[0m, \u001b[32m'start'\u001b[0m: \u001b[1m(\u001b[0m\u001b[1;36m0\u001b[0m, \u001b[1;36m0\u001b[0m\u001b[1m)\u001b[0m, \u001b[32m'end'\u001b[0m: \u001b[1m(\u001b[0m\u001b[1;36m0\u001b[0m, \u001b[1;36m5\u001b[0m\u001b[1m)\u001b[0m, \u001b[32m'children'\u001b[0m: \u001b[1m[\u001b[0m\u001b[1m]\u001b[0m\u001b[1m}\u001b[0m,\n",
       "                        \u001b[1m{\u001b[0m\u001b[32m'grammar_name'\u001b[0m: \u001b[32m'='\u001b[0m, \u001b[32m'text'\u001b[0m: \u001b[32m'='\u001b[0m, \u001b[32m'start'\u001b[0m: \u001b[1m(\u001b[0m\u001b[1;36m0\u001b[0m, \u001b[1;36m5\u001b[0m\u001b[1m)\u001b[0m, \u001b[32m'end'\u001b[0m: \u001b[1m(\u001b[0m\u001b[1;36m0\u001b[0m, \u001b[1;36m6\u001b[0m\u001b[1m)\u001b[0m, \u001b[32m'children'\u001b[0m: \u001b[1m[\u001b[0m\u001b[1m]\u001b[0m\u001b[1m}\u001b[0m,\n",
       "                        \u001b[1m{\u001b[0m\n",
       "                            \u001b[32m'grammar_name'\u001b[0m: \u001b[32m'value'\u001b[0m,\n",
       "                            \u001b[32m'text'\u001b[0m: \u001b[32m'false'\u001b[0m,\n",
       "                            \u001b[32m'start'\u001b[0m: \u001b[1m(\u001b[0m\u001b[1;36m0\u001b[0m, \u001b[1;36m6\u001b[0m\u001b[1m)\u001b[0m,\n",
       "                            \u001b[32m'end'\u001b[0m: \u001b[1m(\u001b[0m\u001b[1;36m0\u001b[0m, \u001b[1;36m11\u001b[0m\u001b[1m)\u001b[0m,\n",
       "                            \u001b[32m'children'\u001b[0m: \u001b[1m[\u001b[0m\u001b[1m]\u001b[0m\n",
       "                        \u001b[1m}\u001b[0m\n",
       "                    \u001b[1m]\u001b[0m\n",
       "                \u001b[1m}\u001b[0m\n",
       "            \u001b[1m]\u001b[0m\n",
       "        \u001b[1m}\u001b[0m\n",
       "    \u001b[1m}\u001b[0m,\n",
       "    \u001b[33mpage_content\u001b[0m=\u001b[32m'\u001b[0m\u001b[32mdebug\u001b[0m\u001b[32m=\u001b[0m\u001b[32mfalse\u001b[0m\u001b[32m'\u001b[0m\n",
       "\u001b[1m)\u001b[0m\n"
      ]
     },
     "metadata": {},
     "output_type": "display_data"
    }
   ],
   "source": [
    "def construct_cst(doc: Document):\n",
    "    cst = parser.parse(str.encode(doc.page_content))\n",
    "    return node_to_dict(cst.root_node)\n",
    "\n",
    "\n",
    "for doc in documents:\n",
    "    if \".properties\" in doc.metadata[\"source\"]:\n",
    "        doc.metadata[\"cst\"] = construct_cst(doc)\n",
    "\n",
    "enriched_prop_doc = [\n",
    "    doc for doc in documents if \".properties\" in doc.metadata[\"source\"]\n",
    "][0]\n",
    "\n",
    "rprint(enriched_prop_doc)"
   ]
  },
  {
   "cell_type": "markdown",
   "id": "905f3456",
   "metadata": {},
   "source": [
    "# Conclusion\n",
    "Using treesitter to parse Java `.properties` files to get a context tree,\n",
    "proved pretty straight forward. Note, that for a file *containing a single property*\n",
    "the CST is already pretty big.\n",
    "\n",
    "## Improvements\n",
    "Prevent duplication of file content ('debug=false'); currently duplicated\n",
    "in file, property and key + value texts. Maybe it's enough to only keep key\n",
    "and values?"
   ]
  }
 ],
 "metadata": {
  "kernelspec": {
   "display_name": "Python 3 (ipykernel)",
   "language": "python",
   "name": "python3"
  },
  "language_info": {
   "codemirror_mode": {
    "name": "ipython",
    "version": 3
   },
   "file_extension": ".py",
   "mimetype": "text/x-python",
   "name": "python",
   "nbconvert_exporter": "python",
   "pygments_lexer": "ipython3",
   "version": "3.9.19"
  }
 },
 "nbformat": 4,
 "nbformat_minor": 5
}
