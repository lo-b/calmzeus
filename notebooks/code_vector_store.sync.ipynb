{
 "cells": [
  {
   "cell_type": "markdown",
   "id": "af024dd2",
   "metadata": {},
   "source": [
    "# Exploration of code vector store\n",
    "# Intro\n",
    "Extracting context for an LLM config assistant to use could be realised by\n",
    "just loading in all project/repository's source files that contain code or\n",
    "configuration.\n",
    "\n",
    "# Goal\n",
    "Create a vector store of a very rudimentary C# (net8) API. Check how well\n",
    "retrieval of relevant files works. I.e. given the prompt:\n",
    "\n",
    "*\"This file is used to configure the application's port.\"*\n",
    "\n",
    "Ideally the store should give back documents that are similar to the prompt,\n",
    "e.g.: `appsettings.json`.\n",
    "\n",
    "# Before you start\n",
    "Create an `.env` file and add & set the `VOYAGE_API_KEY` key.\n",
    "\n",
    "[voyage-code-2](https://blog.voyageai.com/2024/01/23/voyage-code-2-elevate-your-code-retrieval/)\n",
    "is used as the embedding model. After searching for 'best code embedding\n",
    "models' this came up, so let's give it a try!\n",
    "\n",
    "Grab a copy of the C# source code, available\n",
    "[here](https://github.com/lo-b/heavenlyhades/tree/main/csharp/simple-api)\n",
    "\n",
    "\n",
    "# Let's get to it"
   ]
  },
  {
   "cell_type": "code",
   "execution_count": 1,
   "id": "e3940550",
   "metadata": {},
   "outputs": [],
   "source": [
    "from uuid import uuid4\n",
    "\n",
    "import faiss\n",
    "from dotenv import load_dotenv\n",
    "from langchain_community.docstore.in_memory import InMemoryDocstore\n",
    "from langchain_community.document_loaders.generic import GenericLoader\n",
    "from langchain_community.document_loaders.parsers.language.language_parser import (\n",
    "    LanguageParser,\n",
    ")\n",
    "from langchain_community.vectorstores import FAISS\n",
    "from langchain_text_splitters import Language\n",
    "from langchain_voyageai import VoyageAIEmbeddings\n",
    "from rich import print as rprint"
   ]
  },
  {
   "cell_type": "code",
   "execution_count": 2,
   "id": "bfbaedfd",
   "metadata": {},
   "outputs": [],
   "source": [
    "assert load_dotenv(), \"API vars should be defined in .env file\""
   ]
  },
  {
   "cell_type": "markdown",
   "id": "b5e094c2",
   "metadata": {},
   "source": [
    "## Loading documents (`.cs`/`.json` files)\n",
    "Load source code in as documents, only grabbing JSON and C# files."
   ]
  },
  {
   "cell_type": "code",
   "execution_count": 3,
   "id": "80db85a5",
   "metadata": {},
   "outputs": [
    {
     "name": "stderr",
     "output_type": "stream",
     "text": [
      "/home/bram/.pyenv/versions/3.9.19/envs/calmzeus/lib/python3.9/site-packages/tree_sitter/__init__.py:36: FutureWarning: Language(path, name) is deprecated. Use Language(ptr, name) instead.\n",
      "  warn(\"{} is deprecated. Use {} instead.\".format(old, new), FutureWarning)\n"
     ]
    }
   ],
   "source": [
    "csharp_code_dir = \"/home/bram/projects/heavenlyhades/csharp/simple-api/SimpleApi\"\n",
    "loader = GenericLoader.from_filesystem(\n",
    "    csharp_code_dir,\n",
    "    glob=\"**/[!.]*\",\n",
    "    # NOTE: exclude below doesn't seem to work recursively :(\n",
    "    exclude=[\n",
    "        f\"{csharp_code_dir}/obj/**\",\n",
    "        f\"{csharp_code_dir}/**/Debug/net8.0/**\",\n",
    "    ],\n",
    "    suffixes=[\".cs\", \".json\"],\n",
    "    parser=LanguageParser(Language.CSHARP, parser_threshold=10),\n",
    ")\n",
    "documents = loader.load()"
   ]
  },
  {
   "cell_type": "markdown",
   "id": "cef114ef",
   "metadata": {},
   "source": [
    "## Print out the loaded documents"
   ]
  },
  {
   "cell_type": "code",
   "execution_count": 4,
   "id": "c8f4744f",
   "metadata": {},
   "outputs": [
    {
     "name": "stdout",
     "output_type": "stream",
     "text": [
      "Total docs:  5\n",
      "Doc (meta)data\n",
      "METADATA:\n",
      "=>source:\n",
      "\t/home/bram/projects/heavenlyhades/csharp/simple-api/SimpleApi/appsettings.Development.json\n",
      "=>language:\n",
      "\tcsharp\n",
      "JSON DUMP:\n",
      "{\"id\":null,\"metadata\":{\"source\":\"/home/bram/projects/heavenlyhades/csharp/simple-api/SimpleApi/appsettings.Development.json\",\"language\":\"csharp\"},\"page_content\":\"{\\n  \\\"Logging\\\": {\\n    \\\"LogLevel\\\": {\\n      \\\"Default\\\": \\\"Information\\\",\\n      \\\"Microsoft.AspNetCore\\\": \\\"Warning\\\"\\n    }\\n  }\\n}\\n\",\"type\":\"Document\"}\n",
      "======================================================================\n",
      "METADATA:\n",
      "=>source:\n",
      "\t/home/bram/projects/heavenlyhades/csharp/simple-api/SimpleApi/appsettings.json\n",
      "=>language:\n",
      "\tcsharp\n",
      "JSON DUMP:\n",
      "{\"id\":null,\"metadata\":{\"source\":\"/home/bram/projects/heavenlyhades/csharp/simple-api/SimpleApi/appsettings.json\",\"language\":\"csharp\"},\"page_content\":\"{\\n  \\\"Logging\\\": {\\n    \\\"LogLevel\\\": {\\n      \\\"Default\\\": \\\"Information\\\",\\n      \\\"Microsoft.AspNetCore\\\": \\\"Warning\\\"\\n    }\\n  },\\n  \\\"AllowedHosts\\\": \\\"*\\\"\\n}\\n\",\"type\":\"Document\"}\n",
      "======================================================================\n",
      "METADATA:\n",
      "=>source:\n",
      "\t/home/bram/projects/heavenlyhades/csharp/simple-api/SimpleApi/Program.cs\n",
      "=>content_type:\n",
      "\tfunctions_classes\n",
      "=>language:\n",
      "\tcsharp\n",
      "JSON DUMP:\n",
      "{\"id\":null,\"metadata\":{\"source\":\"/home/bram/projects/heavenlyhades/csharp/simple-api/SimpleApi/Program.cs\",\"content_type\":\"functions_classes\",\"language\":\"csharp\"},\"page_content\":\"record WeatherForecast(DateOnly Date, int TemperatureC, string? Summary)\\n{\\n    public int TemperatureF => 32 + (int)(TemperatureC / 0.5556);\\n}\",\"type\":\"Document\"}\n",
      "======================================================================\n",
      "METADATA:\n",
      "=>source:\n",
      "\t/home/bram/projects/heavenlyhades/csharp/simple-api/SimpleApi/Program.cs\n",
      "=>content_type:\n",
      "\tsimplified_code\n",
      "=>language:\n",
      "\tcsharp\n",
      "JSON DUMP:\n",
      "{\"id\":null,\"metadata\":{\"source\":\"/home/bram/projects/heavenlyhades/csharp/simple-api/SimpleApi/Program.cs\",\"content_type\":\"simplified_code\",\"language\":\"csharp\"},\"page_content\":\"var builder = WebApplication.CreateBuilder(args);\\n\\n// Add services to the container.\\n// Learn more about configuring Swagger/OpenAPI at https://aka.ms/aspnetcore/swashbuckle\\nbuilder.Services.AddEndpointsApiExplorer();\\nbuilder.Services.AddSwaggerGen();\\n\\nvar app = builder.Build();\\n\\n// Configure the HTTP request pipeline.\\nif (app.Environment.IsDevelopment())\\n{\\n    app.UseSwagger();\\n    app.UseSwaggerUI();\\n}\\n\\napp.UseHttpsRedirection();\\n\\nvar summaries = new[]\\n{\\n    \\\"Freezing\\\", \\\"Bracing\\\", \\\"Chilly\\\", \\\"Cool\\\", \\\"Mild\\\", \\\"Warm\\\", \\\"Balmy\\\", \\\"Hot\\\", \\\"Sweltering\\\", \\\"Scorching\\\"\\n};\\n\\napp.MapGet(\\\"/weatherforecast\\\", () =>\\n{\\n    var forecast = Enumerable.Range(1, 5).Select(index =>\\n        new WeatherForecast\\n        (\\n            DateOnly.FromDateTime(DateTime.Now.AddDays(index)),\\n            Random.Shared.Next(-20, 55),\\n            summaries[Random.Shared.Next(summaries.Length)]\\n        ))\\n        .ToArray();\\n    return forecast;\\n})\\n.WithName(\\\"GetWeatherForecast\\\")\\n.WithOpenApi();\\n\\napp.Run();\\n\\n// Code for: record WeatherForecast(DateOnly Date, int TemperatureC, string? Summary)\",\"type\":\"Document\"}\n",
      "======================================================================\n",
      "METADATA:\n",
      "=>source:\n",
      "\t/home/bram/projects/heavenlyhades/csharp/simple-api/SimpleApi/Properties/launchSettings.json\n",
      "JSON DUMP:\n",
      "{\"id\":null,\"metadata\":{\"source\":\"/home/bram/projects/heavenlyhades/csharp/simple-api/SimpleApi/Properties/launchSettings.json\"},\"page_content\":\"﻿{\\n  \\\"$schema\\\": \\\"http://json.schemastore.org/launchsettings.json\\\",\\n  \\\"iisSettings\\\": {\\n    \\\"windowsAuthentication\\\": false,\\n    \\\"anonymousAuthentication\\\": true,\\n    \\\"iisExpress\\\": {\\n      \\\"applicationUrl\\\": \\\"http://localhost:6514\\\",\\n      \\\"sslPort\\\": 44324\\n    }\\n  },\\n  \\\"profiles\\\": {\\n    \\\"http\\\": {\\n      \\\"commandName\\\": \\\"Project\\\",\\n      \\\"dotnetRunMessages\\\": true,\\n      \\\"launchBrowser\\\": true,\\n      \\\"launchUrl\\\": \\\"swagger\\\",\\n      \\\"applicationUrl\\\": \\\"http://localhost:5101\\\",\\n      \\\"environmentVariables\\\": {\\n        \\\"ASPNETCORE_ENVIRONMENT\\\": \\\"Development\\\"\\n      }\\n    },\\n    \\\"https\\\": {\\n      \\\"commandName\\\": \\\"Project\\\",\\n      \\\"dotnetRunMessages\\\": true,\\n      \\\"launchBrowser\\\": true,\\n      \\\"launchUrl\\\": \\\"swagger\\\",\\n      \\\"applicationUrl\\\": \\\"https://localhost:7256;http://localhost:5101\\\",\\n      \\\"environmentVariables\\\": {\\n        \\\"ASPNETCORE_ENVIRONMENT\\\": \\\"Development\\\"\\n      }\\n    },\\n    \\\"IIS Express\\\": {\\n      \\\"commandName\\\": \\\"IISExpress\\\",\\n      \\\"launchBrowser\\\": true,\\n      \\\"launchUrl\\\": \\\"swagger\\\",\\n      \\\"environmentVariables\\\": {\\n        \\\"ASPNETCORE_ENVIRONMENT\\\": \\\"Development\\\"\\n      }\\n    }\\n  }\\n}\\n\",\"type\":\"Document\"}\n",
      "======================================================================\n"
     ]
    }
   ],
   "source": [
    "print(\"Total docs: \", len(documents))\n",
    "\n",
    "print(\"Doc (meta)data\")\n",
    "for doc in documents:\n",
    "    print(\"METADATA:\")\n",
    "    for k, v in doc.metadata.items():\n",
    "        print(f\"=>{k}:\\n\\t{v}\")\n",
    "    print(\"JSON DUMP:\")\n",
    "    print(doc.model_dump_json())\n",
    "    print(\"=\" * 70)"
   ]
  },
  {
   "cell_type": "markdown",
   "id": "39da576b",
   "metadata": {},
   "source": [
    "## Check document content loaded"
   ]
  },
  {
   "cell_type": "code",
   "execution_count": 5,
   "id": "2c9ac24e",
   "metadata": {
    "scrolled": true
   },
   "outputs": [
    {
     "name": "stdout",
     "output_type": "stream",
     "text": [
      "FILE:  /home/bram/projects/heavenlyhades/csharp/simple-api/SimpleApi/appsettings.Development.json\n",
      "CONTENT: \n",
      "{\n",
      "  \"Logging\": {\n",
      "    \"LogLevel\": {\n",
      "      \"Default\": \"Information\",\n",
      "      \"Microsoft.AspNetCore\": \"Warning\"\n",
      "    }\n",
      "  }\n",
      "}\n",
      "\n",
      "======================================================================\n",
      "FILE:  /home/bram/projects/heavenlyhades/csharp/simple-api/SimpleApi/appsettings.json\n",
      "CONTENT: \n",
      "{\n",
      "  \"Logging\": {\n",
      "    \"LogLevel\": {\n",
      "      \"Default\": \"Information\",\n",
      "      \"Microsoft.AspNetCore\": \"Warning\"\n",
      "    }\n",
      "  },\n",
      "  \"AllowedHosts\": \"*\"\n",
      "}\n",
      "\n",
      "======================================================================\n",
      "FILE:  /home/bram/projects/heavenlyhades/csharp/simple-api/SimpleApi/Program.cs\n",
      "CONTENT: \n",
      "record WeatherForecast(DateOnly Date, int TemperatureC, string? Summary)\n",
      "{\n",
      "    public int TemperatureF => 32 + (int)(TemperatureC / 0.5556);\n",
      "}\n",
      "======================================================================\n",
      "FILE:  /home/bram/projects/heavenlyhades/csharp/simple-api/SimpleApi/Program.cs\n",
      "CONTENT: \n",
      "var builder = WebApplication.CreateBuilder(args);\n",
      "\n",
      "// Add services to the container.\n",
      "// Learn more about configuring Swagger/OpenAPI at https://aka.ms/aspnetcore/swashbuckle\n",
      "builder.Services.AddEndpointsApiExplorer();\n",
      "builder.Services.AddSwaggerGen();\n",
      "\n",
      "var app = builder.Build();\n",
      "\n",
      "// Configure the HTTP request pipeline.\n",
      "if (app.Environment.IsDevelopment())\n",
      "{\n",
      "    app.UseSwagger();\n",
      "    app.UseSwaggerUI();\n",
      "}\n",
      "\n",
      "app.UseHttpsRedirection();\n",
      "\n",
      "var summaries = new[]\n",
      "{\n",
      "    \"Freezing\", \"Bracing\", \"Chilly\", \"Cool\", \"Mild\", \"Warm\", \"Balmy\", \"Hot\", \"Sweltering\", \"Scorching\"\n",
      "};\n",
      "\n",
      "app.MapGet(\"/weatherforecast\", () =>\n",
      "{\n",
      "    var forecast = Enumerable.Range(1, 5).Select(index =>\n",
      "        new WeatherForecast\n",
      "        (\n",
      "            DateOnly.FromDateTime(DateTime.Now.AddDays(index)),\n",
      "            Random.Shared.Next(-20, 55),\n",
      "            summaries[Random.Shared.Next(summaries.Length)]\n",
      "        ))\n",
      "        .ToArray();\n",
      "    return forecast;\n",
      "})\n",
      ".WithName(\"GetWeatherForecast\")\n",
      ".WithOpenApi();\n",
      "\n",
      "app.Run();\n",
      "\n",
      "// Code for: record WeatherForecast(DateOnly Date, int TemperatureC, string? Summary)\n",
      "======================================================================\n",
      "FILE:  /home/bram/projects/heavenlyhades/csharp/simple-api/SimpleApi/Properties/launchSettings.json\n",
      "CONTENT: \n",
      "﻿{\n",
      "  \"$schema\": \"http://json.schemastore.org/launchsettings.json\",\n",
      "  \"iisSettings\": {\n",
      "    \"windowsAuthentication\": false,\n",
      "    \"anonymousAuthentication\": true,\n",
      "    \"iisExpress\": {\n",
      "      \"applicationUrl\": \"http://localhost:6514\",\n",
      "      \"sslPort\": 44324\n",
      "    }\n",
      "  },\n",
      "  \"profiles\": {\n",
      "    \"http\": {\n",
      "      \"commandName\": \"Project\",\n",
      "      \"dotnetRunMessages\": true,\n",
      "      \"launchBrowser\": true,\n",
      "      \"launchUrl\": \"swagger\",\n",
      "      \"applicationUrl\": \"http://localhost:5101\",\n",
      "      \"environmentVariables\": {\n",
      "        \"ASPNETCORE_ENVIRONMENT\": \"Development\"\n",
      "      }\n",
      "    },\n",
      "    \"https\": {\n",
      "      \"commandName\": \"Project\",\n",
      "      \"dotnetRunMessages\": true,\n",
      "      \"launchBrowser\": true,\n",
      "      \"launchUrl\": \"swagger\",\n",
      "      \"applicationUrl\": \"https://localhost:7256;http://localhost:5101\",\n",
      "      \"environmentVariables\": {\n",
      "        \"ASPNETCORE_ENVIRONMENT\": \"Development\"\n",
      "      }\n",
      "    },\n",
      "    \"IIS Express\": {\n",
      "      \"commandName\": \"IISExpress\",\n",
      "      \"launchBrowser\": true,\n",
      "      \"launchUrl\": \"swagger\",\n",
      "      \"environmentVariables\": {\n",
      "        \"ASPNETCORE_ENVIRONMENT\": \"Development\"\n",
      "      }\n",
      "    }\n",
      "  }\n",
      "}\n",
      "\n",
      "======================================================================\n"
     ]
    }
   ],
   "source": [
    "for doc in documents:\n",
    "    print(\"FILE: \", doc.metadata[\"source\"])\n",
    "    print(\"CONTENT: \")\n",
    "    print(doc.page_content)\n",
    "    print(\"=\" * 70)"
   ]
  },
  {
   "cell_type": "markdown",
   "id": "1edc537b",
   "metadata": {},
   "source": [
    "## Initialize embedding model"
   ]
  },
  {
   "cell_type": "code",
   "execution_count": 6,
   "id": "7a6bbaa4",
   "metadata": {},
   "outputs": [],
   "source": [
    "embeddings = VoyageAIEmbeddings(model=\"voyage-code-2\", batch_size=1)"
   ]
  },
  {
   "cell_type": "markdown",
   "id": "e38a3395",
   "metadata": {},
   "source": [
    "## Create vector store\n",
    "Initialize simple vector store using [FAISS](https://faiss.ai/index.html).\n",
    "Use voyage model initialized above as the embedding function."
   ]
  },
  {
   "cell_type": "code",
   "execution_count": 7,
   "id": "546efb78",
   "metadata": {},
   "outputs": [],
   "source": [
    "sample_text = \"69-420\"  # example text to determine embedding size\n",
    "embedding_size = len(embeddings.embed_query(sample_text))\n",
    "index = faiss.IndexFlatL2(embedding_size)\n",
    "\n",
    "vector_store = FAISS(\n",
    "    embedding_function=embeddings,\n",
    "    index=index,\n",
    "    docstore=InMemoryDocstore(),\n",
    "    index_to_docstore_id={},\n",
    ")\n",
    "\n",
    "uuids = [str(uuid4()) for _ in range(len(documents))]"
   ]
  },
  {
   "cell_type": "code",
   "execution_count": 8,
   "id": "819e0611",
   "metadata": {},
   "outputs": [],
   "source": [
    "v_uuids = vector_store.add_documents(documents=documents, ids=uuids)"
   ]
  },
  {
   "cell_type": "markdown",
   "id": "24b1f2f3",
   "metadata": {},
   "source": [
    "## Similarity search | moment of truth 🙏"
   ]
  },
  {
   "cell_type": "code",
   "execution_count": 9,
   "id": "31e1099c",
   "metadata": {},
   "outputs": [],
   "source": [
    "retriever = vector_store.as_retriever(\n",
    "    search_type=\"mmr\",\n",
    "    search_kwargs={\"k\": 1, \"fetch_k\": 5, \"lambda_mult\": 0.25},\n",
    ")\n",
    "\n",
    "config_query_similarity = retriever.invoke(\n",
    "    \"This file is used to configure the application's port.\"\n",
    ")"
   ]
  },
  {
   "cell_type": "code",
   "execution_count": 10,
   "id": "fdec26a8",
   "metadata": {},
   "outputs": [
    {
     "name": "stdout",
     "output_type": "stream",
     "text": [
      "None\n",
      "/home/bram/projects/heavenlyhades/csharp/simple-api/SimpleApi/appsettings.json\n",
      "Language.CSHARP\n",
      "{\n",
      "  \"Logging\": {\n",
      "    \"LogLevel\": {\n",
      "      \"Default\": \"Information\",\n",
      "      \"Microsoft.AspNetCore\": \"Warning\"\n",
      "    }\n",
      "  },\n",
      "  \"AllowedHosts\": \"*\"\n",
      "}\n",
      "\n"
     ]
    }
   ],
   "source": [
    "print(config_query_similarity[0].id)\n",
    "print(config_query_similarity[0].metadata[\"source\"])\n",
    "print(config_query_similarity[0].metadata[\"language\"])\n",
    "print(config_query_similarity[0].page_content)"
   ]
  },
  {
   "cell_type": "markdown",
   "id": "a7287088",
   "metadata": {},
   "source": [
    "Great! The most similar document returned is (what I would say) the most\n",
    "relevant file."
   ]
  },
  {
   "cell_type": "markdown",
   "id": "022c357b",
   "metadata": {},
   "source": [
    "## If only it were this easy 🥹"
   ]
  },
  {
   "cell_type": "code",
   "execution_count": 11,
   "id": "2be33f06",
   "metadata": {},
   "outputs": [
    {
     "name": "stdout",
     "output_type": "stream",
     "text": [
      "None\n",
      "/home/bram/projects/heavenlyhades/csharp/simple-api/SimpleApi/appsettings.json\n",
      "Language.CSHARP\n",
      "{\n",
      "  \"Logging\": {\n",
      "    \"LogLevel\": {\n",
      "      \"Default\": \"Information\",\n",
      "      \"Microsoft.AspNetCore\": \"Warning\"\n",
      "    }\n",
      "  },\n",
      "  \"AllowedHosts\": \"*\"\n",
      "}\n",
      "\n"
     ]
    }
   ],
   "source": [
    "di_query_similarity = retriever.invoke(\n",
    "    \"This file is used to setup .NET 8 dependency injection\"\n",
    ")\n",
    "\n",
    "print(di_query_similarity[0].id)\n",
    "print(di_query_similarity[0].metadata[\"source\"])\n",
    "print(di_query_similarity[0].metadata[\"language\"])\n",
    "print(di_query_similarity[0].page_content)"
   ]
  },
  {
   "cell_type": "markdown",
   "id": "9babf6ab",
   "metadata": {},
   "source": [
    "Again the same `appsettings.json` file is returned ... I would expect the\n",
    "`Program.cs` file to be returned."
   ]
  },
  {
   "cell_type": "markdown",
   "id": "1134cb66",
   "metadata": {},
   "source": [
    "## And now ... For something completely 'different'\n",
    "Thought I'd query the store for something completely unrelated (about weather)\n",
    "to see if it would also return the same file. Yet it _does_ seem to create\n",
    "relevant embeddings, capturing some context."
   ]
  },
  {
   "cell_type": "code",
   "execution_count": 12,
   "id": "1cc7b352",
   "metadata": {},
   "outputs": [
    {
     "data": {
      "text/html": [
       "<pre style=\"white-space:pre;overflow-x:auto;line-height:normal;font-family:Menlo,'DejaVu Sans Mono',consolas,'Courier New',monospace\"><span style=\"font-weight: bold\">[</span><span style=\"color: #808000; text-decoration-color: #808000\">SIM</span>=<span style=\"color: #008080; text-decoration-color: #008080; font-weight: bold\">0.523930</span><span style=\"font-weight: bold\">]</span>\n",
       "\n",
       "</pre>\n"
      ],
      "text/plain": [
       "\u001b[1m[\u001b[0m\u001b[33mSIM\u001b[0m=\u001b[1;36m0\u001b[0m\u001b[1;36m.523930\u001b[0m\u001b[1m]\u001b[0m\n",
       "\n"
      ]
     },
     "metadata": {},
     "output_type": "display_data"
    },
    {
     "name": "stdout",
     "output_type": "stream",
     "text": [
      "======================================================================\n",
      "\n"
     ]
    },
    {
     "data": {
      "text/html": [
       "<pre style=\"white-space:pre;overflow-x:auto;line-height:normal;font-family:Menlo,'DejaVu Sans Mono',consolas,'Courier New',monospace\">record <span style=\"color: #800080; text-decoration-color: #800080; font-weight: bold\">WeatherForecast</span><span style=\"font-weight: bold\">(</span>DateOnly Date, int TemperatureC, string? Summary<span style=\"font-weight: bold\">)</span>\n",
       "<span style=\"font-weight: bold\">{</span>\n",
       "    public int TemperatureF =&gt; <span style=\"color: #008080; text-decoration-color: #008080; font-weight: bold\">32</span> + <span style=\"font-weight: bold\">(</span>int<span style=\"font-weight: bold\">)(</span>TemperatureC <span style=\"color: #800080; text-decoration-color: #800080\">/</span> <span style=\"color: #008080; text-decoration-color: #008080; font-weight: bold\">0.5556</span><span style=\"font-weight: bold\">)</span>;\n",
       "<span style=\"font-weight: bold\">}</span>\n",
       "</pre>\n"
      ],
      "text/plain": [
       "record \u001b[1;35mWeatherForecast\u001b[0m\u001b[1m(\u001b[0mDateOnly Date, int TemperatureC, string? Summary\u001b[1m)\u001b[0m\n",
       "\u001b[1m{\u001b[0m\n",
       "    public int TemperatureF => \u001b[1;36m32\u001b[0m + \u001b[1m(\u001b[0mint\u001b[1m)\u001b[0m\u001b[1m(\u001b[0mTemperatureC \u001b[35m/\u001b[0m \u001b[1;36m0.5556\u001b[0m\u001b[1m)\u001b[0m;\n",
       "\u001b[1m}\u001b[0m\n"
      ]
     },
     "metadata": {},
     "output_type": "display_data"
    },
    {
     "name": "stdout",
     "output_type": "stream",
     "text": [
      "\n",
      "======================================================================\n"
     ]
    },
    {
     "data": {
      "text/html": [
       "<pre style=\"white-space:pre;overflow-x:auto;line-height:normal;font-family:Menlo,'DejaVu Sans Mono',consolas,'Courier New',monospace\"><span style=\"font-weight: bold\">{</span>\n",
       "    <span style=\"color: #008000; text-decoration-color: #008000\">'source'</span>: <span style=\"color: #008000; text-decoration-color: #008000\">'/home/bram/projects/heavenlyhades/csharp/simple-api/SimpleApi/Program.cs'</span>,\n",
       "    <span style=\"color: #008000; text-decoration-color: #008000\">'content_type'</span>: <span style=\"color: #008000; text-decoration-color: #008000\">'functions_classes'</span>,\n",
       "    <span style=\"color: #008000; text-decoration-color: #008000\">'language'</span>: <span style=\"font-weight: bold\">&lt;</span><span style=\"color: #ff00ff; text-decoration-color: #ff00ff; font-weight: bold\">Language.CSHARP:</span><span style=\"color: #000000; text-decoration-color: #000000\"> </span><span style=\"color: #008000; text-decoration-color: #008000\">'csharp'</span><span style=\"font-weight: bold\">&gt;</span>\n",
       "<span style=\"font-weight: bold\">}</span>\n",
       "</pre>\n"
      ],
      "text/plain": [
       "\u001b[1m{\u001b[0m\n",
       "    \u001b[32m'source'\u001b[0m: \u001b[32m'/home/bram/projects/heavenlyhades/csharp/simple-api/SimpleApi/Program.cs'\u001b[0m,\n",
       "    \u001b[32m'content_type'\u001b[0m: \u001b[32m'functions_classes'\u001b[0m,\n",
       "    \u001b[32m'language'\u001b[0m: \u001b[1m<\u001b[0m\u001b[1;95mLanguage.CSHARP:\u001b[0m\u001b[39m \u001b[0m\u001b[32m'csharp'\u001b[0m\u001b[1m>\u001b[0m\n",
       "\u001b[1m}\u001b[0m\n"
      ]
     },
     "metadata": {},
     "output_type": "display_data"
    }
   ],
   "source": [
    "results = vector_store.similarity_search_with_score(\"Will it be hot tomorrow?\", k=1)\n",
    "for res, score in results:\n",
    "    rprint(f\"[SIM={score:3f}]\\n\")\n",
    "    print(f\"{'='*70}\\n\")\n",
    "    rprint(res.page_content)\n",
    "    print(f\"\\n{'='*70}\")\n",
    "    rprint(res.metadata)"
   ]
  },
  {
   "cell_type": "markdown",
   "id": "bd674a03",
   "metadata": {},
   "source": [
    "The most similar doc returned is a weather-related record (C# keyword).\n",
    "\n",
    "Apparently, scaffolding a new .NET 8 API project using `dotnet` cli, creates\n",
    "a simple API that returns a weather 'forecast'."
   ]
  },
  {
   "cell_type": "markdown",
   "id": "a40254e2",
   "metadata": {},
   "source": [
    "# Conclusion\n",
    "Setup of a vector store is fairly easy. Quality of embeddings is subpar.\n",
    "Similarity search for both queries (about 'dependency injection' and 'port\n",
    "configuration') return the same document: `appsettings.json`.\n",
    "\n",
    "## Potential improvements:\n",
    "- pre-process documents\n",
    "- deep dive on [Existing Approaches to Code Embedding](https://www.unite.ai/code-embedding-a-comprehensive-guide/):\n",
    "token, tree or graph-based.\n",
    "- use 'better' code embedding model\n",
    "- prompt engineering for store retrieval\n",
    "- reranking\n",
    "- add grader (see LangChain's *corrective* RAG example)"
   ]
  }
 ],
 "metadata": {
  "kernelspec": {
   "display_name": "Python 3 (ipykernel)",
   "language": "python",
   "name": "python3"
  },
  "language_info": {
   "codemirror_mode": {
    "name": "ipython",
    "version": 3
   },
   "file_extension": ".py",
   "mimetype": "text/x-python",
   "name": "python",
   "nbconvert_exporter": "python",
   "pygments_lexer": "ipython3",
   "version": "3.9.19"
  }
 },
 "nbformat": 4,
 "nbformat_minor": 5
}
